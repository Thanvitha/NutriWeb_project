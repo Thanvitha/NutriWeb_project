{
  "nbformat": 4,
  "nbformat_minor": 0,
  "metadata": {
    "colab": {
      "provenance": [],
      "include_colab_link": true
    },
    "kernelspec": {
      "name": "python3",
      "display_name": "Python 3"
    },
    "language_info": {
      "name": "python"
    }
  },
  "cells": [
    {
      "cell_type": "markdown",
      "metadata": {
        "id": "view-in-github",
        "colab_type": "text"
      },
      "source": [
        "<a href=\"https://colab.research.google.com/github/pavansatya/NutriVision/blob/main/open_food_facts.ipynb\" target=\"_parent\"><img src=\"https://colab.research.google.com/assets/colab-badge.svg\" alt=\"Open In Colab\"/></a>"
      ]
    },
    {
      "cell_type": "code",
      "source": [
        "from google.colab import drive\n",
        "drive.mount('/content/drive')"
      ],
      "metadata": {
        "id": "wJ5n_w_Frvlx",
        "colab": {
          "base_uri": "https://localhost:8080/"
        },
        "outputId": "9e784057-a841-4e31-b90e-47da284c5b82"
      },
      "execution_count": 1,
      "outputs": [
        {
          "output_type": "stream",
          "name": "stdout",
          "text": [
            "Mounted at /content/drive\n"
          ]
        }
      ]
    },
    {
      "cell_type": "code",
      "source": [
        "import pandas as pd\n",
        "\n",
        "# Read TSV file and change path according to your directory\n",
        "df = pd.read_csv('/content/drive/MyDrive/Nutrivision/en.openfoodfacts.org.products.tsv', sep='\\t')\n",
        "df.head(10)"
      ],
      "metadata": {
        "id": "fVz5xBdvIuNO",
        "colab": {
          "base_uri": "https://localhost:8080/",
          "height": 726
        },
        "outputId": "8f50227b-9d57-47b6-c31a-e903f44be8ad"
      },
      "execution_count": 2,
      "outputs": [
        {
          "output_type": "stream",
          "name": "stderr",
          "text": [
            "<ipython-input-2-a48b98fbf934>:4: DtypeWarning: Columns (0,3,5,19,20,24,25,26,27,28,36,37,38,39,48) have mixed types. Specify dtype option on import or set low_memory=False.\n",
            "  df = pd.read_csv('/content/drive/MyDrive/Nutrivision/en.openfoodfacts.org.products.tsv', sep='\\t')\n"
          ]
        },
        {
          "output_type": "execute_result",
          "data": {
            "text/plain": [
              "    code                                                url  \\\n",
              "0   3087  http://world-en.openfoodfacts.org/product/0000...   \n",
              "1   4530  http://world-en.openfoodfacts.org/product/0000...   \n",
              "2   4559  http://world-en.openfoodfacts.org/product/0000...   \n",
              "3  16087  http://world-en.openfoodfacts.org/product/0000...   \n",
              "4  16094  http://world-en.openfoodfacts.org/product/0000...   \n",
              "5  16100  http://world-en.openfoodfacts.org/product/0000...   \n",
              "6  16117  http://world-en.openfoodfacts.org/product/0000...   \n",
              "7  16124  http://world-en.openfoodfacts.org/product/0000...   \n",
              "8  16193  http://world-en.openfoodfacts.org/product/0000...   \n",
              "9  16513  http://world-en.openfoodfacts.org/product/0000...   \n",
              "\n",
              "                      creator   created_t      created_datetime  \\\n",
              "0  openfoodfacts-contributors  1474103866  2016-09-17T09:17:46Z   \n",
              "1             usda-ndb-import  1489069957  2017-03-09T14:32:37Z   \n",
              "2             usda-ndb-import  1489069957  2017-03-09T14:32:37Z   \n",
              "3             usda-ndb-import  1489055731  2017-03-09T10:35:31Z   \n",
              "4             usda-ndb-import  1489055653  2017-03-09T10:34:13Z   \n",
              "5             usda-ndb-import  1489055651  2017-03-09T10:34:11Z   \n",
              "6             usda-ndb-import  1489055730  2017-03-09T10:35:30Z   \n",
              "7             usda-ndb-import  1489055711  2017-03-09T10:35:11Z   \n",
              "8             usda-ndb-import  1489055651  2017-03-09T10:34:11Z   \n",
              "9             usda-ndb-import  1489055654  2017-03-09T10:34:14Z   \n",
              "\n",
              "  last_modified_t last_modified_datetime                       product_name  \\\n",
              "0      1474103893   2016-09-17T09:18:13Z                 Farine de blé noir   \n",
              "1      1489069957   2017-03-09T14:32:37Z     Banana Chips Sweetened (Whole)   \n",
              "2      1489069957   2017-03-09T14:32:37Z                            Peanuts   \n",
              "3      1489055731   2017-03-09T10:35:31Z             Organic Salted Nut Mix   \n",
              "4      1489055653   2017-03-09T10:34:13Z                    Organic Polenta   \n",
              "5      1489055651   2017-03-09T10:34:11Z  Breadshop Honey Gone Nuts Granola   \n",
              "6      1489055730   2017-03-09T10:35:30Z      Organic Long Grain White Rice   \n",
              "7      1489055712   2017-03-09T10:35:12Z                     Organic Muesli   \n",
              "8      1489055651   2017-03-09T10:34:11Z       Organic Dark Chocolate Minis   \n",
              "9      1489055654   2017-03-09T10:34:14Z              Organic Sunflower Oil   \n",
              "\n",
              "  generic_name quantity  ... fruits-vegetables-nuts_100g  \\\n",
              "0          NaN      1kg  ...                         NaN   \n",
              "1          NaN      NaN  ...                         NaN   \n",
              "2          NaN      NaN  ...                         NaN   \n",
              "3          NaN      NaN  ...                         NaN   \n",
              "4          NaN      NaN  ...                         NaN   \n",
              "5          NaN      NaN  ...                         NaN   \n",
              "6          NaN      NaN  ...                         NaN   \n",
              "7          NaN      NaN  ...                         NaN   \n",
              "8          NaN      NaN  ...                         NaN   \n",
              "9          NaN      NaN  ...                         NaN   \n",
              "\n",
              "  fruits-vegetables-nuts-estimate_100g collagen-meat-protein-ratio_100g  \\\n",
              "0                                  NaN                              NaN   \n",
              "1                                  NaN                              NaN   \n",
              "2                                  NaN                              NaN   \n",
              "3                                  NaN                              NaN   \n",
              "4                                  NaN                              NaN   \n",
              "5                                  NaN                              NaN   \n",
              "6                                  NaN                              NaN   \n",
              "7                                  NaN                              NaN   \n",
              "8                                  NaN                              NaN   \n",
              "9                                  NaN                              NaN   \n",
              "\n",
              "  cocoa_100g chlorophyl_100g carbon-footprint_100g nutrition-score-fr_100g  \\\n",
              "0        NaN             NaN                   NaN                     NaN   \n",
              "1        NaN             NaN                   NaN                    14.0   \n",
              "2        NaN             NaN                   NaN                     0.0   \n",
              "3        NaN             NaN                   NaN                    12.0   \n",
              "4        NaN             NaN                   NaN                     NaN   \n",
              "5        NaN             NaN                   NaN                     NaN   \n",
              "6        NaN             NaN                   NaN                     NaN   \n",
              "7        NaN             NaN                   NaN                     7.0   \n",
              "8        NaN             NaN                   NaN                     NaN   \n",
              "9        NaN             NaN                   NaN                     NaN   \n",
              "\n",
              "  nutrition-score-uk_100g glycemic-index_100g water-hardness_100g  \n",
              "0                     NaN                 NaN                 NaN  \n",
              "1                    14.0                 NaN                 NaN  \n",
              "2                     0.0                 NaN                 NaN  \n",
              "3                    12.0                 NaN                 NaN  \n",
              "4                     NaN                 NaN                 NaN  \n",
              "5                     NaN                 NaN                 NaN  \n",
              "6                     NaN                 NaN                 NaN  \n",
              "7                     7.0                 NaN                 NaN  \n",
              "8                     NaN                 NaN                 NaN  \n",
              "9                     NaN                 NaN                 NaN  \n",
              "\n",
              "[10 rows x 163 columns]"
            ],
            "text/html": [
              "\n",
              "  <div id=\"df-e3f6962b-d2eb-4985-980f-9c4dad51e651\" class=\"colab-df-container\">\n",
              "    <div>\n",
              "<style scoped>\n",
              "    .dataframe tbody tr th:only-of-type {\n",
              "        vertical-align: middle;\n",
              "    }\n",
              "\n",
              "    .dataframe tbody tr th {\n",
              "        vertical-align: top;\n",
              "    }\n",
              "\n",
              "    .dataframe thead th {\n",
              "        text-align: right;\n",
              "    }\n",
              "</style>\n",
              "<table border=\"1\" class=\"dataframe\">\n",
              "  <thead>\n",
              "    <tr style=\"text-align: right;\">\n",
              "      <th></th>\n",
              "      <th>code</th>\n",
              "      <th>url</th>\n",
              "      <th>creator</th>\n",
              "      <th>created_t</th>\n",
              "      <th>created_datetime</th>\n",
              "      <th>last_modified_t</th>\n",
              "      <th>last_modified_datetime</th>\n",
              "      <th>product_name</th>\n",
              "      <th>generic_name</th>\n",
              "      <th>quantity</th>\n",
              "      <th>...</th>\n",
              "      <th>fruits-vegetables-nuts_100g</th>\n",
              "      <th>fruits-vegetables-nuts-estimate_100g</th>\n",
              "      <th>collagen-meat-protein-ratio_100g</th>\n",
              "      <th>cocoa_100g</th>\n",
              "      <th>chlorophyl_100g</th>\n",
              "      <th>carbon-footprint_100g</th>\n",
              "      <th>nutrition-score-fr_100g</th>\n",
              "      <th>nutrition-score-uk_100g</th>\n",
              "      <th>glycemic-index_100g</th>\n",
              "      <th>water-hardness_100g</th>\n",
              "    </tr>\n",
              "  </thead>\n",
              "  <tbody>\n",
              "    <tr>\n",
              "      <th>0</th>\n",
              "      <td>3087</td>\n",
              "      <td>http://world-en.openfoodfacts.org/product/0000...</td>\n",
              "      <td>openfoodfacts-contributors</td>\n",
              "      <td>1474103866</td>\n",
              "      <td>2016-09-17T09:17:46Z</td>\n",
              "      <td>1474103893</td>\n",
              "      <td>2016-09-17T09:18:13Z</td>\n",
              "      <td>Farine de blé noir</td>\n",
              "      <td>NaN</td>\n",
              "      <td>1kg</td>\n",
              "      <td>...</td>\n",
              "      <td>NaN</td>\n",
              "      <td>NaN</td>\n",
              "      <td>NaN</td>\n",
              "      <td>NaN</td>\n",
              "      <td>NaN</td>\n",
              "      <td>NaN</td>\n",
              "      <td>NaN</td>\n",
              "      <td>NaN</td>\n",
              "      <td>NaN</td>\n",
              "      <td>NaN</td>\n",
              "    </tr>\n",
              "    <tr>\n",
              "      <th>1</th>\n",
              "      <td>4530</td>\n",
              "      <td>http://world-en.openfoodfacts.org/product/0000...</td>\n",
              "      <td>usda-ndb-import</td>\n",
              "      <td>1489069957</td>\n",
              "      <td>2017-03-09T14:32:37Z</td>\n",
              "      <td>1489069957</td>\n",
              "      <td>2017-03-09T14:32:37Z</td>\n",
              "      <td>Banana Chips Sweetened (Whole)</td>\n",
              "      <td>NaN</td>\n",
              "      <td>NaN</td>\n",
              "      <td>...</td>\n",
              "      <td>NaN</td>\n",
              "      <td>NaN</td>\n",
              "      <td>NaN</td>\n",
              "      <td>NaN</td>\n",
              "      <td>NaN</td>\n",
              "      <td>NaN</td>\n",
              "      <td>14.0</td>\n",
              "      <td>14.0</td>\n",
              "      <td>NaN</td>\n",
              "      <td>NaN</td>\n",
              "    </tr>\n",
              "    <tr>\n",
              "      <th>2</th>\n",
              "      <td>4559</td>\n",
              "      <td>http://world-en.openfoodfacts.org/product/0000...</td>\n",
              "      <td>usda-ndb-import</td>\n",
              "      <td>1489069957</td>\n",
              "      <td>2017-03-09T14:32:37Z</td>\n",
              "      <td>1489069957</td>\n",
              "      <td>2017-03-09T14:32:37Z</td>\n",
              "      <td>Peanuts</td>\n",
              "      <td>NaN</td>\n",
              "      <td>NaN</td>\n",
              "      <td>...</td>\n",
              "      <td>NaN</td>\n",
              "      <td>NaN</td>\n",
              "      <td>NaN</td>\n",
              "      <td>NaN</td>\n",
              "      <td>NaN</td>\n",
              "      <td>NaN</td>\n",
              "      <td>0.0</td>\n",
              "      <td>0.0</td>\n",
              "      <td>NaN</td>\n",
              "      <td>NaN</td>\n",
              "    </tr>\n",
              "    <tr>\n",
              "      <th>3</th>\n",
              "      <td>16087</td>\n",
              "      <td>http://world-en.openfoodfacts.org/product/0000...</td>\n",
              "      <td>usda-ndb-import</td>\n",
              "      <td>1489055731</td>\n",
              "      <td>2017-03-09T10:35:31Z</td>\n",
              "      <td>1489055731</td>\n",
              "      <td>2017-03-09T10:35:31Z</td>\n",
              "      <td>Organic Salted Nut Mix</td>\n",
              "      <td>NaN</td>\n",
              "      <td>NaN</td>\n",
              "      <td>...</td>\n",
              "      <td>NaN</td>\n",
              "      <td>NaN</td>\n",
              "      <td>NaN</td>\n",
              "      <td>NaN</td>\n",
              "      <td>NaN</td>\n",
              "      <td>NaN</td>\n",
              "      <td>12.0</td>\n",
              "      <td>12.0</td>\n",
              "      <td>NaN</td>\n",
              "      <td>NaN</td>\n",
              "    </tr>\n",
              "    <tr>\n",
              "      <th>4</th>\n",
              "      <td>16094</td>\n",
              "      <td>http://world-en.openfoodfacts.org/product/0000...</td>\n",
              "      <td>usda-ndb-import</td>\n",
              "      <td>1489055653</td>\n",
              "      <td>2017-03-09T10:34:13Z</td>\n",
              "      <td>1489055653</td>\n",
              "      <td>2017-03-09T10:34:13Z</td>\n",
              "      <td>Organic Polenta</td>\n",
              "      <td>NaN</td>\n",
              "      <td>NaN</td>\n",
              "      <td>...</td>\n",
              "      <td>NaN</td>\n",
              "      <td>NaN</td>\n",
              "      <td>NaN</td>\n",
              "      <td>NaN</td>\n",
              "      <td>NaN</td>\n",
              "      <td>NaN</td>\n",
              "      <td>NaN</td>\n",
              "      <td>NaN</td>\n",
              "      <td>NaN</td>\n",
              "      <td>NaN</td>\n",
              "    </tr>\n",
              "    <tr>\n",
              "      <th>5</th>\n",
              "      <td>16100</td>\n",
              "      <td>http://world-en.openfoodfacts.org/product/0000...</td>\n",
              "      <td>usda-ndb-import</td>\n",
              "      <td>1489055651</td>\n",
              "      <td>2017-03-09T10:34:11Z</td>\n",
              "      <td>1489055651</td>\n",
              "      <td>2017-03-09T10:34:11Z</td>\n",
              "      <td>Breadshop Honey Gone Nuts Granola</td>\n",
              "      <td>NaN</td>\n",
              "      <td>NaN</td>\n",
              "      <td>...</td>\n",
              "      <td>NaN</td>\n",
              "      <td>NaN</td>\n",
              "      <td>NaN</td>\n",
              "      <td>NaN</td>\n",
              "      <td>NaN</td>\n",
              "      <td>NaN</td>\n",
              "      <td>NaN</td>\n",
              "      <td>NaN</td>\n",
              "      <td>NaN</td>\n",
              "      <td>NaN</td>\n",
              "    </tr>\n",
              "    <tr>\n",
              "      <th>6</th>\n",
              "      <td>16117</td>\n",
              "      <td>http://world-en.openfoodfacts.org/product/0000...</td>\n",
              "      <td>usda-ndb-import</td>\n",
              "      <td>1489055730</td>\n",
              "      <td>2017-03-09T10:35:30Z</td>\n",
              "      <td>1489055730</td>\n",
              "      <td>2017-03-09T10:35:30Z</td>\n",
              "      <td>Organic Long Grain White Rice</td>\n",
              "      <td>NaN</td>\n",
              "      <td>NaN</td>\n",
              "      <td>...</td>\n",
              "      <td>NaN</td>\n",
              "      <td>NaN</td>\n",
              "      <td>NaN</td>\n",
              "      <td>NaN</td>\n",
              "      <td>NaN</td>\n",
              "      <td>NaN</td>\n",
              "      <td>NaN</td>\n",
              "      <td>NaN</td>\n",
              "      <td>NaN</td>\n",
              "      <td>NaN</td>\n",
              "    </tr>\n",
              "    <tr>\n",
              "      <th>7</th>\n",
              "      <td>16124</td>\n",
              "      <td>http://world-en.openfoodfacts.org/product/0000...</td>\n",
              "      <td>usda-ndb-import</td>\n",
              "      <td>1489055711</td>\n",
              "      <td>2017-03-09T10:35:11Z</td>\n",
              "      <td>1489055712</td>\n",
              "      <td>2017-03-09T10:35:12Z</td>\n",
              "      <td>Organic Muesli</td>\n",
              "      <td>NaN</td>\n",
              "      <td>NaN</td>\n",
              "      <td>...</td>\n",
              "      <td>NaN</td>\n",
              "      <td>NaN</td>\n",
              "      <td>NaN</td>\n",
              "      <td>NaN</td>\n",
              "      <td>NaN</td>\n",
              "      <td>NaN</td>\n",
              "      <td>7.0</td>\n",
              "      <td>7.0</td>\n",
              "      <td>NaN</td>\n",
              "      <td>NaN</td>\n",
              "    </tr>\n",
              "    <tr>\n",
              "      <th>8</th>\n",
              "      <td>16193</td>\n",
              "      <td>http://world-en.openfoodfacts.org/product/0000...</td>\n",
              "      <td>usda-ndb-import</td>\n",
              "      <td>1489055651</td>\n",
              "      <td>2017-03-09T10:34:11Z</td>\n",
              "      <td>1489055651</td>\n",
              "      <td>2017-03-09T10:34:11Z</td>\n",
              "      <td>Organic Dark Chocolate Minis</td>\n",
              "      <td>NaN</td>\n",
              "      <td>NaN</td>\n",
              "      <td>...</td>\n",
              "      <td>NaN</td>\n",
              "      <td>NaN</td>\n",
              "      <td>NaN</td>\n",
              "      <td>NaN</td>\n",
              "      <td>NaN</td>\n",
              "      <td>NaN</td>\n",
              "      <td>NaN</td>\n",
              "      <td>NaN</td>\n",
              "      <td>NaN</td>\n",
              "      <td>NaN</td>\n",
              "    </tr>\n",
              "    <tr>\n",
              "      <th>9</th>\n",
              "      <td>16513</td>\n",
              "      <td>http://world-en.openfoodfacts.org/product/0000...</td>\n",
              "      <td>usda-ndb-import</td>\n",
              "      <td>1489055654</td>\n",
              "      <td>2017-03-09T10:34:14Z</td>\n",
              "      <td>1489055654</td>\n",
              "      <td>2017-03-09T10:34:14Z</td>\n",
              "      <td>Organic Sunflower Oil</td>\n",
              "      <td>NaN</td>\n",
              "      <td>NaN</td>\n",
              "      <td>...</td>\n",
              "      <td>NaN</td>\n",
              "      <td>NaN</td>\n",
              "      <td>NaN</td>\n",
              "      <td>NaN</td>\n",
              "      <td>NaN</td>\n",
              "      <td>NaN</td>\n",
              "      <td>NaN</td>\n",
              "      <td>NaN</td>\n",
              "      <td>NaN</td>\n",
              "      <td>NaN</td>\n",
              "    </tr>\n",
              "  </tbody>\n",
              "</table>\n",
              "<p>10 rows × 163 columns</p>\n",
              "</div>\n",
              "    <div class=\"colab-df-buttons\">\n",
              "\n",
              "  <div class=\"colab-df-container\">\n",
              "    <button class=\"colab-df-convert\" onclick=\"convertToInteractive('df-e3f6962b-d2eb-4985-980f-9c4dad51e651')\"\n",
              "            title=\"Convert this dataframe to an interactive table.\"\n",
              "            style=\"display:none;\">\n",
              "\n",
              "  <svg xmlns=\"http://www.w3.org/2000/svg\" height=\"24px\" viewBox=\"0 -960 960 960\">\n",
              "    <path d=\"M120-120v-720h720v720H120Zm60-500h600v-160H180v160Zm220 220h160v-160H400v160Zm0 220h160v-160H400v160ZM180-400h160v-160H180v160Zm440 0h160v-160H620v160ZM180-180h160v-160H180v160Zm440 0h160v-160H620v160Z\"/>\n",
              "  </svg>\n",
              "    </button>\n",
              "\n",
              "  <style>\n",
              "    .colab-df-container {\n",
              "      display:flex;\n",
              "      gap: 12px;\n",
              "    }\n",
              "\n",
              "    .colab-df-convert {\n",
              "      background-color: #E8F0FE;\n",
              "      border: none;\n",
              "      border-radius: 50%;\n",
              "      cursor: pointer;\n",
              "      display: none;\n",
              "      fill: #1967D2;\n",
              "      height: 32px;\n",
              "      padding: 0 0 0 0;\n",
              "      width: 32px;\n",
              "    }\n",
              "\n",
              "    .colab-df-convert:hover {\n",
              "      background-color: #E2EBFA;\n",
              "      box-shadow: 0px 1px 2px rgba(60, 64, 67, 0.3), 0px 1px 3px 1px rgba(60, 64, 67, 0.15);\n",
              "      fill: #174EA6;\n",
              "    }\n",
              "\n",
              "    .colab-df-buttons div {\n",
              "      margin-bottom: 4px;\n",
              "    }\n",
              "\n",
              "    [theme=dark] .colab-df-convert {\n",
              "      background-color: #3B4455;\n",
              "      fill: #D2E3FC;\n",
              "    }\n",
              "\n",
              "    [theme=dark] .colab-df-convert:hover {\n",
              "      background-color: #434B5C;\n",
              "      box-shadow: 0px 1px 3px 1px rgba(0, 0, 0, 0.15);\n",
              "      filter: drop-shadow(0px 1px 2px rgba(0, 0, 0, 0.3));\n",
              "      fill: #FFFFFF;\n",
              "    }\n",
              "  </style>\n",
              "\n",
              "    <script>\n",
              "      const buttonEl =\n",
              "        document.querySelector('#df-e3f6962b-d2eb-4985-980f-9c4dad51e651 button.colab-df-convert');\n",
              "      buttonEl.style.display =\n",
              "        google.colab.kernel.accessAllowed ? 'block' : 'none';\n",
              "\n",
              "      async function convertToInteractive(key) {\n",
              "        const element = document.querySelector('#df-e3f6962b-d2eb-4985-980f-9c4dad51e651');\n",
              "        const dataTable =\n",
              "          await google.colab.kernel.invokeFunction('convertToInteractive',\n",
              "                                                    [key], {});\n",
              "        if (!dataTable) return;\n",
              "\n",
              "        const docLinkHtml = 'Like what you see? Visit the ' +\n",
              "          '<a target=\"_blank\" href=https://colab.research.google.com/notebooks/data_table.ipynb>data table notebook</a>'\n",
              "          + ' to learn more about interactive tables.';\n",
              "        element.innerHTML = '';\n",
              "        dataTable['output_type'] = 'display_data';\n",
              "        await google.colab.output.renderOutput(dataTable, element);\n",
              "        const docLink = document.createElement('div');\n",
              "        docLink.innerHTML = docLinkHtml;\n",
              "        element.appendChild(docLink);\n",
              "      }\n",
              "    </script>\n",
              "  </div>\n",
              "\n",
              "\n",
              "<div id=\"df-8576d98e-df9a-4e5e-ba13-dad570521fb8\">\n",
              "  <button class=\"colab-df-quickchart\" onclick=\"quickchart('df-8576d98e-df9a-4e5e-ba13-dad570521fb8')\"\n",
              "            title=\"Suggest charts\"\n",
              "            style=\"display:none;\">\n",
              "\n",
              "<svg xmlns=\"http://www.w3.org/2000/svg\" height=\"24px\"viewBox=\"0 0 24 24\"\n",
              "     width=\"24px\">\n",
              "    <g>\n",
              "        <path d=\"M19 3H5c-1.1 0-2 .9-2 2v14c0 1.1.9 2 2 2h14c1.1 0 2-.9 2-2V5c0-1.1-.9-2-2-2zM9 17H7v-7h2v7zm4 0h-2V7h2v10zm4 0h-2v-4h2v4z\"/>\n",
              "    </g>\n",
              "</svg>\n",
              "  </button>\n",
              "\n",
              "<style>\n",
              "  .colab-df-quickchart {\n",
              "      --bg-color: #E8F0FE;\n",
              "      --fill-color: #1967D2;\n",
              "      --hover-bg-color: #E2EBFA;\n",
              "      --hover-fill-color: #174EA6;\n",
              "      --disabled-fill-color: #AAA;\n",
              "      --disabled-bg-color: #DDD;\n",
              "  }\n",
              "\n",
              "  [theme=dark] .colab-df-quickchart {\n",
              "      --bg-color: #3B4455;\n",
              "      --fill-color: #D2E3FC;\n",
              "      --hover-bg-color: #434B5C;\n",
              "      --hover-fill-color: #FFFFFF;\n",
              "      --disabled-bg-color: #3B4455;\n",
              "      --disabled-fill-color: #666;\n",
              "  }\n",
              "\n",
              "  .colab-df-quickchart {\n",
              "    background-color: var(--bg-color);\n",
              "    border: none;\n",
              "    border-radius: 50%;\n",
              "    cursor: pointer;\n",
              "    display: none;\n",
              "    fill: var(--fill-color);\n",
              "    height: 32px;\n",
              "    padding: 0;\n",
              "    width: 32px;\n",
              "  }\n",
              "\n",
              "  .colab-df-quickchart:hover {\n",
              "    background-color: var(--hover-bg-color);\n",
              "    box-shadow: 0 1px 2px rgba(60, 64, 67, 0.3), 0 1px 3px 1px rgba(60, 64, 67, 0.15);\n",
              "    fill: var(--button-hover-fill-color);\n",
              "  }\n",
              "\n",
              "  .colab-df-quickchart-complete:disabled,\n",
              "  .colab-df-quickchart-complete:disabled:hover {\n",
              "    background-color: var(--disabled-bg-color);\n",
              "    fill: var(--disabled-fill-color);\n",
              "    box-shadow: none;\n",
              "  }\n",
              "\n",
              "  .colab-df-spinner {\n",
              "    border: 2px solid var(--fill-color);\n",
              "    border-color: transparent;\n",
              "    border-bottom-color: var(--fill-color);\n",
              "    animation:\n",
              "      spin 1s steps(1) infinite;\n",
              "  }\n",
              "\n",
              "  @keyframes spin {\n",
              "    0% {\n",
              "      border-color: transparent;\n",
              "      border-bottom-color: var(--fill-color);\n",
              "      border-left-color: var(--fill-color);\n",
              "    }\n",
              "    20% {\n",
              "      border-color: transparent;\n",
              "      border-left-color: var(--fill-color);\n",
              "      border-top-color: var(--fill-color);\n",
              "    }\n",
              "    30% {\n",
              "      border-color: transparent;\n",
              "      border-left-color: var(--fill-color);\n",
              "      border-top-color: var(--fill-color);\n",
              "      border-right-color: var(--fill-color);\n",
              "    }\n",
              "    40% {\n",
              "      border-color: transparent;\n",
              "      border-right-color: var(--fill-color);\n",
              "      border-top-color: var(--fill-color);\n",
              "    }\n",
              "    60% {\n",
              "      border-color: transparent;\n",
              "      border-right-color: var(--fill-color);\n",
              "    }\n",
              "    80% {\n",
              "      border-color: transparent;\n",
              "      border-right-color: var(--fill-color);\n",
              "      border-bottom-color: var(--fill-color);\n",
              "    }\n",
              "    90% {\n",
              "      border-color: transparent;\n",
              "      border-bottom-color: var(--fill-color);\n",
              "    }\n",
              "  }\n",
              "</style>\n",
              "\n",
              "  <script>\n",
              "    async function quickchart(key) {\n",
              "      const quickchartButtonEl =\n",
              "        document.querySelector('#' + key + ' button');\n",
              "      quickchartButtonEl.disabled = true;  // To prevent multiple clicks.\n",
              "      quickchartButtonEl.classList.add('colab-df-spinner');\n",
              "      try {\n",
              "        const charts = await google.colab.kernel.invokeFunction(\n",
              "            'suggestCharts', [key], {});\n",
              "      } catch (error) {\n",
              "        console.error('Error during call to suggestCharts:', error);\n",
              "      }\n",
              "      quickchartButtonEl.classList.remove('colab-df-spinner');\n",
              "      quickchartButtonEl.classList.add('colab-df-quickchart-complete');\n",
              "    }\n",
              "    (() => {\n",
              "      let quickchartButtonEl =\n",
              "        document.querySelector('#df-8576d98e-df9a-4e5e-ba13-dad570521fb8 button');\n",
              "      quickchartButtonEl.style.display =\n",
              "        google.colab.kernel.accessAllowed ? 'block' : 'none';\n",
              "    })();\n",
              "  </script>\n",
              "</div>\n",
              "\n",
              "    </div>\n",
              "  </div>\n"
            ],
            "application/vnd.google.colaboratory.intrinsic+json": {
              "type": "dataframe",
              "variable_name": "df"
            }
          },
          "metadata": {},
          "execution_count": 2
        }
      ]
    },
    {
      "cell_type": "code",
      "source": [
        "df.columns.values"
      ],
      "metadata": {
        "colab": {
          "base_uri": "https://localhost:8080/"
        },
        "id": "0GHMbwhkNmyu",
        "outputId": "4bf660eb-8aa9-46d5-e61b-af5d238fd4fd"
      },
      "execution_count": 3,
      "outputs": [
        {
          "output_type": "execute_result",
          "data": {
            "text/plain": [
              "array(['code', 'url', 'creator', 'created_t', 'created_datetime',\n",
              "       'last_modified_t', 'last_modified_datetime', 'product_name',\n",
              "       'generic_name', 'quantity', 'packaging', 'packaging_tags',\n",
              "       'brands', 'brands_tags', 'categories', 'categories_tags',\n",
              "       'categories_en', 'origins', 'origins_tags', 'manufacturing_places',\n",
              "       'manufacturing_places_tags', 'labels', 'labels_tags', 'labels_en',\n",
              "       'emb_codes', 'emb_codes_tags', 'first_packaging_code_geo',\n",
              "       'cities', 'cities_tags', 'purchase_places', 'stores', 'countries',\n",
              "       'countries_tags', 'countries_en', 'ingredients_text', 'allergens',\n",
              "       'allergens_en', 'traces', 'traces_tags', 'traces_en',\n",
              "       'serving_size', 'no_nutriments', 'additives_n', 'additives',\n",
              "       'additives_tags', 'additives_en', 'ingredients_from_palm_oil_n',\n",
              "       'ingredients_from_palm_oil', 'ingredients_from_palm_oil_tags',\n",
              "       'ingredients_that_may_be_from_palm_oil_n',\n",
              "       'ingredients_that_may_be_from_palm_oil',\n",
              "       'ingredients_that_may_be_from_palm_oil_tags', 'nutrition_grade_uk',\n",
              "       'nutrition_grade_fr', 'pnns_groups_1', 'pnns_groups_2', 'states',\n",
              "       'states_tags', 'states_en', 'main_category', 'main_category_en',\n",
              "       'image_url', 'image_small_url', 'energy_100g',\n",
              "       'energy-from-fat_100g', 'fat_100g', 'saturated-fat_100g',\n",
              "       '-butyric-acid_100g', '-caproic-acid_100g', '-caprylic-acid_100g',\n",
              "       '-capric-acid_100g', '-lauric-acid_100g', '-myristic-acid_100g',\n",
              "       '-palmitic-acid_100g', '-stearic-acid_100g',\n",
              "       '-arachidic-acid_100g', '-behenic-acid_100g',\n",
              "       '-lignoceric-acid_100g', '-cerotic-acid_100g',\n",
              "       '-montanic-acid_100g', '-melissic-acid_100g',\n",
              "       'monounsaturated-fat_100g', 'polyunsaturated-fat_100g',\n",
              "       'omega-3-fat_100g', '-alpha-linolenic-acid_100g',\n",
              "       '-eicosapentaenoic-acid_100g', '-docosahexaenoic-acid_100g',\n",
              "       'omega-6-fat_100g', '-linoleic-acid_100g',\n",
              "       '-arachidonic-acid_100g', '-gamma-linolenic-acid_100g',\n",
              "       '-dihomo-gamma-linolenic-acid_100g', 'omega-9-fat_100g',\n",
              "       '-oleic-acid_100g', '-elaidic-acid_100g', '-gondoic-acid_100g',\n",
              "       '-mead-acid_100g', '-erucic-acid_100g', '-nervonic-acid_100g',\n",
              "       'trans-fat_100g', 'cholesterol_100g', 'carbohydrates_100g',\n",
              "       'sugars_100g', '-sucrose_100g', '-glucose_100g', '-fructose_100g',\n",
              "       '-lactose_100g', '-maltose_100g', '-maltodextrins_100g',\n",
              "       'starch_100g', 'polyols_100g', 'fiber_100g', 'proteins_100g',\n",
              "       'casein_100g', 'serum-proteins_100g', 'nucleotides_100g',\n",
              "       'salt_100g', 'sodium_100g', 'alcohol_100g', 'vitamin-a_100g',\n",
              "       'beta-carotene_100g', 'vitamin-d_100g', 'vitamin-e_100g',\n",
              "       'vitamin-k_100g', 'vitamin-c_100g', 'vitamin-b1_100g',\n",
              "       'vitamin-b2_100g', 'vitamin-pp_100g', 'vitamin-b6_100g',\n",
              "       'vitamin-b9_100g', 'folates_100g', 'vitamin-b12_100g',\n",
              "       'biotin_100g', 'pantothenic-acid_100g', 'silica_100g',\n",
              "       'bicarbonate_100g', 'potassium_100g', 'chloride_100g',\n",
              "       'calcium_100g', 'phosphorus_100g', 'iron_100g', 'magnesium_100g',\n",
              "       'zinc_100g', 'copper_100g', 'manganese_100g', 'fluoride_100g',\n",
              "       'selenium_100g', 'chromium_100g', 'molybdenum_100g', 'iodine_100g',\n",
              "       'caffeine_100g', 'taurine_100g', 'ph_100g',\n",
              "       'fruits-vegetables-nuts_100g',\n",
              "       'fruits-vegetables-nuts-estimate_100g',\n",
              "       'collagen-meat-protein-ratio_100g', 'cocoa_100g',\n",
              "       'chlorophyl_100g', 'carbon-footprint_100g',\n",
              "       'nutrition-score-fr_100g', 'nutrition-score-uk_100g',\n",
              "       'glycemic-index_100g', 'water-hardness_100g'], dtype=object)"
            ]
          },
          "metadata": {},
          "execution_count": 3
        }
      ]
    },
    {
      "cell_type": "markdown",
      "source": [
        "These are the columns that only have null values in them so I am considering to drop these columns as they do not contribute meaningful information."
      ],
      "metadata": {
        "id": "i6B37tl2PFdB"
      }
    },
    {
      "cell_type": "code",
      "source": [
        "# List of columns with only null values\n",
        "df.drop_duplicates(inplace=True)\n",
        "null_columns = df.columns[df.isnull().all()].tolist()\n",
        "df.drop(columns = null_columns, inplace=True, axis=1)\n",
        "df.shape"
      ],
      "metadata": {
        "colab": {
          "base_uri": "https://localhost:8080/"
        },
        "id": "Xib0FirJOSqm",
        "outputId": "d0b39bb5-64f7-4ff2-e7b6-7926c09730d0"
      },
      "execution_count": 4,
      "outputs": [
        {
          "output_type": "execute_result",
          "data": {
            "text/plain": [
              "(356027, 147)"
            ]
          },
          "metadata": {},
          "execution_count": 4
        }
      ]
    },
    {
      "cell_type": "markdown",
      "source": [
        "Lets check how many null values are present in columns containing nutrient fact details of food product i.e. energy, proteins, carbs, etc., and replace them with 0 as they only contain nutritional facts like proteins, carbs, fats of a food and it is completely fine to impute them to 0."
      ],
      "metadata": {
        "id": "tJh-m9o-R4Tf"
      }
    },
    {
      "cell_type": "code",
      "source": [
        "[df.columns.get_loc('energy_100g'), df.columns.get_loc('ph_100g')]"
      ],
      "metadata": {
        "colab": {
          "base_uri": "https://localhost:8080/"
        },
        "id": "mIGnQdq7R3O9",
        "outputId": "98fb3191-447e-421d-dbc1-1d6a5b71a6ae"
      },
      "execution_count": 5,
      "outputs": [
        {
          "output_type": "execute_result",
          "data": {
            "text/plain": [
              "[59, 139]"
            ]
          },
          "metadata": {},
          "execution_count": 5
        }
      ]
    },
    {
      "cell_type": "code",
      "source": [
        "df.iloc[:, 59:140] = df.iloc[:, 59:140].fillna(0)"
      ],
      "metadata": {
        "id": "WWlBeK7zR3MV"
      },
      "execution_count": 6,
      "outputs": []
    },
    {
      "cell_type": "markdown",
      "source": [
        "*countries _en* contains the list of countries in english where the product is sold. So, we are creating new datarame that exclusively have data of products manufactured in USA only"
      ],
      "metadata": {
        "id": "9YtjOC2XVmmp"
      }
    },
    {
      "cell_type": "code",
      "source": [
        "df.countries_en.fillna('unknown country', inplace=True)\n",
        "filter = df.countries_en == 'United States'\n",
        "us_df = df[filter]"
      ],
      "metadata": {
        "colab": {
          "base_uri": "https://localhost:8080/"
        },
        "id": "Av_55W9cVphW",
        "outputId": "7ed6cb4b-5f29-4322-c524-e2f250cead94"
      },
      "execution_count": 7,
      "outputs": [
        {
          "output_type": "stream",
          "name": "stderr",
          "text": [
            "<ipython-input-7-37472c230c9a>:1: FutureWarning: A value is trying to be set on a copy of a DataFrame or Series through chained assignment using an inplace method.\n",
            "The behavior will change in pandas 3.0. This inplace method will never work because the intermediate object on which we are setting values always behaves as a copy.\n",
            "\n",
            "For example, when doing 'df[col].method(value, inplace=True)', try using 'df.method({col: value}, inplace=True)' or df[col] = df[col].method(value) instead, to perform the operation inplace on the original object.\n",
            "\n",
            "\n",
            "  df.countries_en.fillna('unknown country', inplace=True)\n"
          ]
        }
      ]
    },
    {
      "cell_type": "markdown",
      "source": [
        "Now, we can either drop all the column that only has zero values or follow these step:\n",
        "\n",
        "\n",
        "1.   If you expect that these columns might be filled with data in the future (e.g., if they are related to features that are not yet available), you might choose to keep them for now.\n",
        "2.   If you have a large number of columns with null values, it might be worth checking if there are patterns in the data collection process that led to these nulls.\n",
        "3.   Consider how these columns might impact the performance of your recommender system. Including irrelevant or empty features can lead to overfitting or increased complexity without any benefit."
      ],
      "metadata": {
        "id": "LI-2gf3TWpa4"
      }
    },
    {
      "cell_type": "code",
      "source": [
        "# List of columns with only zero values\n",
        "zero_columns = us_df.columns[(us_df == 0).all()].tolist()\n",
        "# List of columns with only null values\n",
        "null_columns = us_df.columns[us_df.isnull().all()].tolist()\n",
        "\n",
        "print(len(zero_columns), len(null_columns))"
      ],
      "metadata": {
        "colab": {
          "base_uri": "https://localhost:8080/"
        },
        "id": "NfBrorPJWdAo",
        "outputId": "ba40b383-b753-42ae-feaa-335828de533b"
      },
      "execution_count": 8,
      "outputs": [
        {
          "output_type": "stream",
          "name": "stdout",
          "text": [
            "34 4\n"
          ]
        }
      ]
    },
    {
      "cell_type": "code",
      "source": [
        "columns_to_drop = null_columns + zero_columns\n",
        "us_df.drop(columns = columns_to_drop, inplace=True, axis=1)\n",
        "us_df.shape"
      ],
      "metadata": {
        "colab": {
          "base_uri": "https://localhost:8080/"
        },
        "id": "ubFYhe2eWc5U",
        "outputId": "6dd219ec-1d9d-4de9-d96d-5f642273cb2e"
      },
      "execution_count": 9,
      "outputs": [
        {
          "output_type": "stream",
          "name": "stderr",
          "text": [
            "<ipython-input-9-873f47f8e08d>:2: SettingWithCopyWarning: \n",
            "A value is trying to be set on a copy of a slice from a DataFrame\n",
            "\n",
            "See the caveats in the documentation: https://pandas.pydata.org/pandas-docs/stable/user_guide/indexing.html#returning-a-view-versus-a-copy\n",
            "  us_df.drop(columns = columns_to_drop, inplace=True, axis=1)\n"
          ]
        },
        {
          "output_type": "execute_result",
          "data": {
            "text/plain": [
              "(173159, 109)"
            ]
          },
          "metadata": {},
          "execution_count": 9
        }
      ]
    },
    {
      "cell_type": "markdown",
      "source": [
        "There are few columns where we only have 1 or 2 values out of 173159, those are :  \n",
        "1. first_packaging_code_geo\n",
        "2. cities_tags\n",
        "3. ingredients_from_palm_oil_n\n",
        "4. ingredients_from_palm_oil_tags'\n",
        "5. -alpha-linolenic-acid_100g\n",
        "6. omega-3-fat_100g\n",
        "7. serum-proteins_100g\n",
        "8. molybdenum_100g\n",
        "9. cocoa_100g"
      ],
      "metadata": {
        "id": "lEvlHgbpgKw9"
      }
    },
    {
      "cell_type": "code",
      "source": [
        "us_df.main_category_en.fillna('no category', inplace=True)\n",
        "us_df.main_category_en.value_counts()"
      ],
      "metadata": {
        "colab": {
          "base_uri": "https://localhost:8080/",
          "height": 599
        },
        "id": "5AaGfW8Iasdq",
        "outputId": "169f87aa-1c01-4719-bfa6-1646887418db"
      },
      "execution_count": 13,
      "outputs": [
        {
          "output_type": "stream",
          "name": "stderr",
          "text": [
            "<ipython-input-13-951d7a99730e>:1: SettingWithCopyWarning: \n",
            "A value is trying to be set on a copy of a slice from a DataFrame\n",
            "\n",
            "See the caveats in the documentation: https://pandas.pydata.org/pandas-docs/stable/user_guide/indexing.html#returning-a-view-versus-a-copy\n",
            "  us_df.main_category_en.fillna('no category', inplace=True)\n"
          ]
        },
        {
          "output_type": "execute_result",
          "data": {
            "text/plain": [
              "main_category_en\n",
              "no category                        170402\n",
              "Groceries                             508\n",
              "Plant-based foods and beverages       480\n",
              "Sugary snacks                         428\n",
              "Beverages                             390\n",
              "                                    ...  \n",
              "Hot-fudge-topping                       1\n",
              "Blueberry-syrup                         1\n",
              "Ginseng-tea                             1\n",
              "Pancakes-and-waffles                    1\n",
              "Purified-water                          1\n",
              "Name: count, Length: 222, dtype: int64"
            ],
            "text/html": [
              "<div>\n",
              "<style scoped>\n",
              "    .dataframe tbody tr th:only-of-type {\n",
              "        vertical-align: middle;\n",
              "    }\n",
              "\n",
              "    .dataframe tbody tr th {\n",
              "        vertical-align: top;\n",
              "    }\n",
              "\n",
              "    .dataframe thead th {\n",
              "        text-align: right;\n",
              "    }\n",
              "</style>\n",
              "<table border=\"1\" class=\"dataframe\">\n",
              "  <thead>\n",
              "    <tr style=\"text-align: right;\">\n",
              "      <th></th>\n",
              "      <th>count</th>\n",
              "    </tr>\n",
              "    <tr>\n",
              "      <th>main_category_en</th>\n",
              "      <th></th>\n",
              "    </tr>\n",
              "  </thead>\n",
              "  <tbody>\n",
              "    <tr>\n",
              "      <th>no category</th>\n",
              "      <td>170402</td>\n",
              "    </tr>\n",
              "    <tr>\n",
              "      <th>Groceries</th>\n",
              "      <td>508</td>\n",
              "    </tr>\n",
              "    <tr>\n",
              "      <th>Plant-based foods and beverages</th>\n",
              "      <td>480</td>\n",
              "    </tr>\n",
              "    <tr>\n",
              "      <th>Sugary snacks</th>\n",
              "      <td>428</td>\n",
              "    </tr>\n",
              "    <tr>\n",
              "      <th>Beverages</th>\n",
              "      <td>390</td>\n",
              "    </tr>\n",
              "    <tr>\n",
              "      <th>...</th>\n",
              "      <td>...</td>\n",
              "    </tr>\n",
              "    <tr>\n",
              "      <th>Hot-fudge-topping</th>\n",
              "      <td>1</td>\n",
              "    </tr>\n",
              "    <tr>\n",
              "      <th>Blueberry-syrup</th>\n",
              "      <td>1</td>\n",
              "    </tr>\n",
              "    <tr>\n",
              "      <th>Ginseng-tea</th>\n",
              "      <td>1</td>\n",
              "    </tr>\n",
              "    <tr>\n",
              "      <th>Pancakes-and-waffles</th>\n",
              "      <td>1</td>\n",
              "    </tr>\n",
              "    <tr>\n",
              "      <th>Purified-water</th>\n",
              "      <td>1</td>\n",
              "    </tr>\n",
              "  </tbody>\n",
              "</table>\n",
              "<p>222 rows × 1 columns</p>\n",
              "</div><br><label><b>dtype:</b> int64</label>"
            ]
          },
          "metadata": {},
          "execution_count": 13
        }
      ]
    },
    {
      "cell_type": "markdown",
      "source": [
        "### suggestion module"
      ],
      "metadata": {
        "id": "r1KbbqnAfTON"
      }
    },
    {
      "cell_type": "markdown",
      "source": [
        "This will help us to give top 5 similar words incase we give wrong input i.e. spelling mistakes, incomplete words"
      ],
      "metadata": {
        "id": "jSYb6vptfR87"
      }
    },
    {
      "cell_type": "code",
      "source": [
        "!pip install rapidfuzz"
      ],
      "metadata": {
        "colab": {
          "base_uri": "https://localhost:8080/"
        },
        "id": "u64JSUvoasYY",
        "outputId": "5bdbdfac-8234-4f59-88c6-370ee76cc7ac"
      },
      "execution_count": 14,
      "outputs": [
        {
          "output_type": "stream",
          "name": "stdout",
          "text": [
            "Collecting rapidfuzz\n",
            "  Downloading rapidfuzz-3.12.1-cp311-cp311-manylinux_2_17_x86_64.manylinux2014_x86_64.whl.metadata (11 kB)\n",
            "Downloading rapidfuzz-3.12.1-cp311-cp311-manylinux_2_17_x86_64.manylinux2014_x86_64.whl (3.1 MB)\n",
            "\u001b[?25l   \u001b[90m━━━━━━━━━━━━━━━━━━━━━━━━━━━━━━━━━━━━━━━━\u001b[0m \u001b[32m0.0/3.1 MB\u001b[0m \u001b[31m?\u001b[0m eta \u001b[36m-:--:--\u001b[0m\r\u001b[2K   \u001b[91m━━━━━━━━━\u001b[0m\u001b[91m╸\u001b[0m\u001b[90m━━━━━━━━━━━━━━━━━━━━━━━━━━━━━━\u001b[0m \u001b[32m0.8/3.1 MB\u001b[0m \u001b[31m23.0 MB/s\u001b[0m eta \u001b[36m0:00:01\u001b[0m\r\u001b[2K   \u001b[91m━━━━━━━━━━━━━━━━━━━━━━━━━━━━\u001b[0m\u001b[91m╸\u001b[0m\u001b[90m━━━━━━━━━━━\u001b[0m \u001b[32m2.2/3.1 MB\u001b[0m \u001b[31m32.1 MB/s\u001b[0m eta \u001b[36m0:00:01\u001b[0m\r\u001b[2K   \u001b[91m━━━━━━━━━━━━━━━━━━━━━━━━━━━━━━━━━━━━━━━\u001b[0m\u001b[91m╸\u001b[0m \u001b[32m3.1/3.1 MB\u001b[0m \u001b[31m34.4 MB/s\u001b[0m eta \u001b[36m0:00:01\u001b[0m\r\u001b[2K   \u001b[90m━━━━━━━━━━━━━━━━━━━━━━━━━━━━━━━━━━━━━━━━\u001b[0m \u001b[32m3.1/3.1 MB\u001b[0m \u001b[31m26.4 MB/s\u001b[0m eta \u001b[36m0:00:00\u001b[0m\n",
            "\u001b[?25hInstalling collected packages: rapidfuzz\n",
            "Successfully installed rapidfuzz-3.12.1\n"
          ]
        }
      ]
    },
    {
      "cell_type": "code",
      "source": [
        "import pandas as pd\n",
        "from rapidfuzz import fuzz, process\n",
        "\n",
        "# Function to correct vowels\n",
        "def correct_vowels(word, candidates):\n",
        "    vowels = 'aeiou'\n",
        "    word_lower = word.lower()\n",
        "    corrected_values = []\n",
        "\n",
        "    for value in corrected_values:\n",
        "        value_lower = value.lower()\n",
        "        # Replace each vowel in the word with each vowel in the candidate to find the best match\n",
        "        if all(\n",
        "            (c in vowels and w in vowels) or c == w\n",
        "            for c, w in zip(value_lower, word_lower.ljust(len(value_lower)))\n",
        "        ):\n",
        "            corrected_values.append(value)\n",
        "\n",
        "    return corrected_values\n",
        "\n",
        "# Function to find the best matches\n",
        "def suggest_categories(input_word, categories, top_n=5):\n",
        "    # Normalize the categories\n",
        "    categories = categories.str.lower().unique()\n",
        "\n",
        "    # Step 1: Use Levenshtein distance to find initial matches\n",
        "    matches = process.extract(input_word.lower(), categories, scorer=fuzz.ratio, limit=len(categories))\n",
        "\n",
        "    # Step 2: Filter matches and correct for vowel errors\n",
        "    top_matches = [match[0] for match in matches if match[1] > 60]  # Only keep matches with similarity > 60\n",
        "    corrected_matches = correct_vowels(input_word, top_matches)\n",
        "\n",
        "    # Step 3: Match corrections with the original `categories` column\n",
        "    valid_matches = [match for match in (corrected_matches or top_matches) if match in categories]\n",
        "\n",
        "    # Step 4: Return the top N suggestions\n",
        "    suggestions = sorted(\n",
        "        valid_matches,  # Use only matches found in `categories`\n",
        "        key=lambda x: process.extractOne(input_word, [x], scorer=fuzz.ratio)[1],\n",
        "        reverse=True\n",
        "    )[:top_n]\n",
        "\n",
        "    return suggestions"
      ],
      "metadata": {
        "id": "oT_xeGAFasVT"
      },
      "execution_count": 15,
      "outputs": []
    },
    {
      "cell_type": "code",
      "source": [
        "# Example DataFrame\n",
        "data = pd.DataFrame(us_df['main_category_en'], columns=['main_category_en'])\n",
        "\n",
        "# User input\n",
        "user_input = \"ickls\"\n",
        "\n",
        "# Get suggestions\n",
        "suggestions = suggest_categories(user_input, df[\"categories\"])\n",
        "print(\"Suggestions:\", suggestions)"
      ],
      "metadata": {
        "colab": {
          "base_uri": "https://localhost:8080/"
        },
        "id": "PS-c6mwhasR5",
        "outputId": "3261e1d5-7244-447b-c608-6e64e256569a"
      },
      "execution_count": 16,
      "outputs": [
        {
          "output_type": "stream",
          "name": "stdout",
          "text": [
            "Suggestions: ['pickles', 'oils', 'chicles', 'chickens', 'biftecks']\n"
          ]
        }
      ]
    },
    {
      "cell_type": "markdown",
      "source": [
        "we are creating another dataframe which consists of product name and all nutrients per 100g of the product"
      ],
      "metadata": {
        "id": "0MjChVNLPSjn"
      }
    },
    {
      "cell_type": "code",
      "source": [],
      "metadata": {
        "id": "ra03QtdXgCgg"
      },
      "execution_count": null,
      "outputs": []
    },
    {
      "cell_type": "code",
      "source": [],
      "metadata": {
        "id": "beeeTvxogCdn"
      },
      "execution_count": null,
      "outputs": []
    },
    {
      "cell_type": "code",
      "source": [],
      "metadata": {
        "id": "27FgHZQFgCbN"
      },
      "execution_count": null,
      "outputs": []
    },
    {
      "cell_type": "code",
      "source": [
        "# Get all columns that end with '100g'\n",
        "columns_with_100g = [col for col in us_df.columns if col.endswith('100g')]\n",
        "\n",
        "# Include 'product_name' in the list of columns\n",
        "columns_to_select = ['product_name'] + columns_with_100g\n",
        "\n",
        "# Create a new DataFrame with the selected columns\n",
        "nutrients_df = us_df[columns_to_select]\n",
        "nutrients_df['energy_100g'] = round(nutrients_df['energy_100g']/4.184, 2)\n",
        "\n",
        "nutrients_df.head()"
      ],
      "metadata": {
        "id": "HtUSbl2UNyqp",
        "colab": {
          "base_uri": "https://localhost:8080/",
          "height": 394
        },
        "outputId": "b5dee880-1483-4341-a178-108d9ed6fede"
      },
      "execution_count": 8,
      "outputs": [
        {
          "output_type": "execute_result",
          "data": {
            "text/plain": [
              "                        product_name  energy_100g  energy-from-fat_100g  \\\n",
              "1     Banana Chips Sweetened (Whole)       2243.0                   0.0   \n",
              "2                            Peanuts       1941.0                   0.0   \n",
              "3             Organic Salted Nut Mix       2540.0                   0.0   \n",
              "4                    Organic Polenta       1552.0                   0.0   \n",
              "5  Breadshop Honey Gone Nuts Granola       1933.0                   0.0   \n",
              "\n",
              "   fat_100g  saturated-fat_100g  -butyric-acid_100g  -caproic-acid_100g  \\\n",
              "1     28.57               28.57                 0.0                 0.0   \n",
              "2     17.86                0.00                 0.0                 0.0   \n",
              "3     57.14                5.36                 0.0                 0.0   \n",
              "4      1.43                0.00                 0.0                 0.0   \n",
              "5     18.27                1.92                 0.0                 0.0   \n",
              "\n",
              "   -caprylic-acid_100g  -capric-acid_100g  -lauric-acid_100g  ...  \\\n",
              "1                  0.0                0.0                0.0  ...   \n",
              "2                  0.0                0.0                0.0  ...   \n",
              "3                  0.0                0.0                0.0  ...   \n",
              "4                  0.0                0.0                0.0  ...   \n",
              "5                  0.0                0.0                0.0  ...   \n",
              "\n",
              "   fruits-vegetables-nuts_100g  fruits-vegetables-nuts-estimate_100g  \\\n",
              "1                          0.0                                   0.0   \n",
              "2                          0.0                                   0.0   \n",
              "3                          0.0                                   0.0   \n",
              "4                          0.0                                   0.0   \n",
              "5                          0.0                                   0.0   \n",
              "\n",
              "   collagen-meat-protein-ratio_100g  cocoa_100g  chlorophyl_100g  \\\n",
              "1                               0.0         0.0              0.0   \n",
              "2                               0.0         0.0              0.0   \n",
              "3                               0.0         0.0              0.0   \n",
              "4                               0.0         0.0              0.0   \n",
              "5                               0.0         0.0              0.0   \n",
              "\n",
              "   carbon-footprint_100g  nutrition-score-fr_100g  nutrition-score-uk_100g  \\\n",
              "1                    0.0                     14.0                     14.0   \n",
              "2                    0.0                      0.0                      0.0   \n",
              "3                    0.0                     12.0                     12.0   \n",
              "4                    0.0                      0.0                      0.0   \n",
              "5                    0.0                      0.0                      0.0   \n",
              "\n",
              "   glycemic-index_100g  water-hardness_100g  \n",
              "1                  0.0                  0.0  \n",
              "2                  0.0                  0.0  \n",
              "3                  0.0                  0.0  \n",
              "4                  0.0                  0.0  \n",
              "5                  0.0                  0.0  \n",
              "\n",
              "[5 rows x 101 columns]"
            ],
            "text/html": [
              "\n",
              "  <div id=\"df-3115e1a5-ae79-4095-9bef-2e96dabbb82c\" class=\"colab-df-container\">\n",
              "    <div>\n",
              "<style scoped>\n",
              "    .dataframe tbody tr th:only-of-type {\n",
              "        vertical-align: middle;\n",
              "    }\n",
              "\n",
              "    .dataframe tbody tr th {\n",
              "        vertical-align: top;\n",
              "    }\n",
              "\n",
              "    .dataframe thead th {\n",
              "        text-align: right;\n",
              "    }\n",
              "</style>\n",
              "<table border=\"1\" class=\"dataframe\">\n",
              "  <thead>\n",
              "    <tr style=\"text-align: right;\">\n",
              "      <th></th>\n",
              "      <th>product_name</th>\n",
              "      <th>energy_100g</th>\n",
              "      <th>energy-from-fat_100g</th>\n",
              "      <th>fat_100g</th>\n",
              "      <th>saturated-fat_100g</th>\n",
              "      <th>-butyric-acid_100g</th>\n",
              "      <th>-caproic-acid_100g</th>\n",
              "      <th>-caprylic-acid_100g</th>\n",
              "      <th>-capric-acid_100g</th>\n",
              "      <th>-lauric-acid_100g</th>\n",
              "      <th>...</th>\n",
              "      <th>fruits-vegetables-nuts_100g</th>\n",
              "      <th>fruits-vegetables-nuts-estimate_100g</th>\n",
              "      <th>collagen-meat-protein-ratio_100g</th>\n",
              "      <th>cocoa_100g</th>\n",
              "      <th>chlorophyl_100g</th>\n",
              "      <th>carbon-footprint_100g</th>\n",
              "      <th>nutrition-score-fr_100g</th>\n",
              "      <th>nutrition-score-uk_100g</th>\n",
              "      <th>glycemic-index_100g</th>\n",
              "      <th>water-hardness_100g</th>\n",
              "    </tr>\n",
              "  </thead>\n",
              "  <tbody>\n",
              "    <tr>\n",
              "      <th>1</th>\n",
              "      <td>Banana Chips Sweetened (Whole)</td>\n",
              "      <td>2243.0</td>\n",
              "      <td>0.0</td>\n",
              "      <td>28.57</td>\n",
              "      <td>28.57</td>\n",
              "      <td>0.0</td>\n",
              "      <td>0.0</td>\n",
              "      <td>0.0</td>\n",
              "      <td>0.0</td>\n",
              "      <td>0.0</td>\n",
              "      <td>...</td>\n",
              "      <td>0.0</td>\n",
              "      <td>0.0</td>\n",
              "      <td>0.0</td>\n",
              "      <td>0.0</td>\n",
              "      <td>0.0</td>\n",
              "      <td>0.0</td>\n",
              "      <td>14.0</td>\n",
              "      <td>14.0</td>\n",
              "      <td>0.0</td>\n",
              "      <td>0.0</td>\n",
              "    </tr>\n",
              "    <tr>\n",
              "      <th>2</th>\n",
              "      <td>Peanuts</td>\n",
              "      <td>1941.0</td>\n",
              "      <td>0.0</td>\n",
              "      <td>17.86</td>\n",
              "      <td>0.00</td>\n",
              "      <td>0.0</td>\n",
              "      <td>0.0</td>\n",
              "      <td>0.0</td>\n",
              "      <td>0.0</td>\n",
              "      <td>0.0</td>\n",
              "      <td>...</td>\n",
              "      <td>0.0</td>\n",
              "      <td>0.0</td>\n",
              "      <td>0.0</td>\n",
              "      <td>0.0</td>\n",
              "      <td>0.0</td>\n",
              "      <td>0.0</td>\n",
              "      <td>0.0</td>\n",
              "      <td>0.0</td>\n",
              "      <td>0.0</td>\n",
              "      <td>0.0</td>\n",
              "    </tr>\n",
              "    <tr>\n",
              "      <th>3</th>\n",
              "      <td>Organic Salted Nut Mix</td>\n",
              "      <td>2540.0</td>\n",
              "      <td>0.0</td>\n",
              "      <td>57.14</td>\n",
              "      <td>5.36</td>\n",
              "      <td>0.0</td>\n",
              "      <td>0.0</td>\n",
              "      <td>0.0</td>\n",
              "      <td>0.0</td>\n",
              "      <td>0.0</td>\n",
              "      <td>...</td>\n",
              "      <td>0.0</td>\n",
              "      <td>0.0</td>\n",
              "      <td>0.0</td>\n",
              "      <td>0.0</td>\n",
              "      <td>0.0</td>\n",
              "      <td>0.0</td>\n",
              "      <td>12.0</td>\n",
              "      <td>12.0</td>\n",
              "      <td>0.0</td>\n",
              "      <td>0.0</td>\n",
              "    </tr>\n",
              "    <tr>\n",
              "      <th>4</th>\n",
              "      <td>Organic Polenta</td>\n",
              "      <td>1552.0</td>\n",
              "      <td>0.0</td>\n",
              "      <td>1.43</td>\n",
              "      <td>0.00</td>\n",
              "      <td>0.0</td>\n",
              "      <td>0.0</td>\n",
              "      <td>0.0</td>\n",
              "      <td>0.0</td>\n",
              "      <td>0.0</td>\n",
              "      <td>...</td>\n",
              "      <td>0.0</td>\n",
              "      <td>0.0</td>\n",
              "      <td>0.0</td>\n",
              "      <td>0.0</td>\n",
              "      <td>0.0</td>\n",
              "      <td>0.0</td>\n",
              "      <td>0.0</td>\n",
              "      <td>0.0</td>\n",
              "      <td>0.0</td>\n",
              "      <td>0.0</td>\n",
              "    </tr>\n",
              "    <tr>\n",
              "      <th>5</th>\n",
              "      <td>Breadshop Honey Gone Nuts Granola</td>\n",
              "      <td>1933.0</td>\n",
              "      <td>0.0</td>\n",
              "      <td>18.27</td>\n",
              "      <td>1.92</td>\n",
              "      <td>0.0</td>\n",
              "      <td>0.0</td>\n",
              "      <td>0.0</td>\n",
              "      <td>0.0</td>\n",
              "      <td>0.0</td>\n",
              "      <td>...</td>\n",
              "      <td>0.0</td>\n",
              "      <td>0.0</td>\n",
              "      <td>0.0</td>\n",
              "      <td>0.0</td>\n",
              "      <td>0.0</td>\n",
              "      <td>0.0</td>\n",
              "      <td>0.0</td>\n",
              "      <td>0.0</td>\n",
              "      <td>0.0</td>\n",
              "      <td>0.0</td>\n",
              "    </tr>\n",
              "  </tbody>\n",
              "</table>\n",
              "<p>5 rows × 101 columns</p>\n",
              "</div>\n",
              "    <div class=\"colab-df-buttons\">\n",
              "\n",
              "  <div class=\"colab-df-container\">\n",
              "    <button class=\"colab-df-convert\" onclick=\"convertToInteractive('df-3115e1a5-ae79-4095-9bef-2e96dabbb82c')\"\n",
              "            title=\"Convert this dataframe to an interactive table.\"\n",
              "            style=\"display:none;\">\n",
              "\n",
              "  <svg xmlns=\"http://www.w3.org/2000/svg\" height=\"24px\" viewBox=\"0 -960 960 960\">\n",
              "    <path d=\"M120-120v-720h720v720H120Zm60-500h600v-160H180v160Zm220 220h160v-160H400v160Zm0 220h160v-160H400v160ZM180-400h160v-160H180v160Zm440 0h160v-160H620v160ZM180-180h160v-160H180v160Zm440 0h160v-160H620v160Z\"/>\n",
              "  </svg>\n",
              "    </button>\n",
              "\n",
              "  <style>\n",
              "    .colab-df-container {\n",
              "      display:flex;\n",
              "      gap: 12px;\n",
              "    }\n",
              "\n",
              "    .colab-df-convert {\n",
              "      background-color: #E8F0FE;\n",
              "      border: none;\n",
              "      border-radius: 50%;\n",
              "      cursor: pointer;\n",
              "      display: none;\n",
              "      fill: #1967D2;\n",
              "      height: 32px;\n",
              "      padding: 0 0 0 0;\n",
              "      width: 32px;\n",
              "    }\n",
              "\n",
              "    .colab-df-convert:hover {\n",
              "      background-color: #E2EBFA;\n",
              "      box-shadow: 0px 1px 2px rgba(60, 64, 67, 0.3), 0px 1px 3px 1px rgba(60, 64, 67, 0.15);\n",
              "      fill: #174EA6;\n",
              "    }\n",
              "\n",
              "    .colab-df-buttons div {\n",
              "      margin-bottom: 4px;\n",
              "    }\n",
              "\n",
              "    [theme=dark] .colab-df-convert {\n",
              "      background-color: #3B4455;\n",
              "      fill: #D2E3FC;\n",
              "    }\n",
              "\n",
              "    [theme=dark] .colab-df-convert:hover {\n",
              "      background-color: #434B5C;\n",
              "      box-shadow: 0px 1px 3px 1px rgba(0, 0, 0, 0.15);\n",
              "      filter: drop-shadow(0px 1px 2px rgba(0, 0, 0, 0.3));\n",
              "      fill: #FFFFFF;\n",
              "    }\n",
              "  </style>\n",
              "\n",
              "    <script>\n",
              "      const buttonEl =\n",
              "        document.querySelector('#df-3115e1a5-ae79-4095-9bef-2e96dabbb82c button.colab-df-convert');\n",
              "      buttonEl.style.display =\n",
              "        google.colab.kernel.accessAllowed ? 'block' : 'none';\n",
              "\n",
              "      async function convertToInteractive(key) {\n",
              "        const element = document.querySelector('#df-3115e1a5-ae79-4095-9bef-2e96dabbb82c');\n",
              "        const dataTable =\n",
              "          await google.colab.kernel.invokeFunction('convertToInteractive',\n",
              "                                                    [key], {});\n",
              "        if (!dataTable) return;\n",
              "\n",
              "        const docLinkHtml = 'Like what you see? Visit the ' +\n",
              "          '<a target=\"_blank\" href=https://colab.research.google.com/notebooks/data_table.ipynb>data table notebook</a>'\n",
              "          + ' to learn more about interactive tables.';\n",
              "        element.innerHTML = '';\n",
              "        dataTable['output_type'] = 'display_data';\n",
              "        await google.colab.output.renderOutput(dataTable, element);\n",
              "        const docLink = document.createElement('div');\n",
              "        docLink.innerHTML = docLinkHtml;\n",
              "        element.appendChild(docLink);\n",
              "      }\n",
              "    </script>\n",
              "  </div>\n",
              "\n",
              "\n",
              "<div id=\"df-b86205d3-1035-4a8e-9c79-f7c491b55c3e\">\n",
              "  <button class=\"colab-df-quickchart\" onclick=\"quickchart('df-b86205d3-1035-4a8e-9c79-f7c491b55c3e')\"\n",
              "            title=\"Suggest charts\"\n",
              "            style=\"display:none;\">\n",
              "\n",
              "<svg xmlns=\"http://www.w3.org/2000/svg\" height=\"24px\"viewBox=\"0 0 24 24\"\n",
              "     width=\"24px\">\n",
              "    <g>\n",
              "        <path d=\"M19 3H5c-1.1 0-2 .9-2 2v14c0 1.1.9 2 2 2h14c1.1 0 2-.9 2-2V5c0-1.1-.9-2-2-2zM9 17H7v-7h2v7zm4 0h-2V7h2v10zm4 0h-2v-4h2v4z\"/>\n",
              "    </g>\n",
              "</svg>\n",
              "  </button>\n",
              "\n",
              "<style>\n",
              "  .colab-df-quickchart {\n",
              "      --bg-color: #E8F0FE;\n",
              "      --fill-color: #1967D2;\n",
              "      --hover-bg-color: #E2EBFA;\n",
              "      --hover-fill-color: #174EA6;\n",
              "      --disabled-fill-color: #AAA;\n",
              "      --disabled-bg-color: #DDD;\n",
              "  }\n",
              "\n",
              "  [theme=dark] .colab-df-quickchart {\n",
              "      --bg-color: #3B4455;\n",
              "      --fill-color: #D2E3FC;\n",
              "      --hover-bg-color: #434B5C;\n",
              "      --hover-fill-color: #FFFFFF;\n",
              "      --disabled-bg-color: #3B4455;\n",
              "      --disabled-fill-color: #666;\n",
              "  }\n",
              "\n",
              "  .colab-df-quickchart {\n",
              "    background-color: var(--bg-color);\n",
              "    border: none;\n",
              "    border-radius: 50%;\n",
              "    cursor: pointer;\n",
              "    display: none;\n",
              "    fill: var(--fill-color);\n",
              "    height: 32px;\n",
              "    padding: 0;\n",
              "    width: 32px;\n",
              "  }\n",
              "\n",
              "  .colab-df-quickchart:hover {\n",
              "    background-color: var(--hover-bg-color);\n",
              "    box-shadow: 0 1px 2px rgba(60, 64, 67, 0.3), 0 1px 3px 1px rgba(60, 64, 67, 0.15);\n",
              "    fill: var(--button-hover-fill-color);\n",
              "  }\n",
              "\n",
              "  .colab-df-quickchart-complete:disabled,\n",
              "  .colab-df-quickchart-complete:disabled:hover {\n",
              "    background-color: var(--disabled-bg-color);\n",
              "    fill: var(--disabled-fill-color);\n",
              "    box-shadow: none;\n",
              "  }\n",
              "\n",
              "  .colab-df-spinner {\n",
              "    border: 2px solid var(--fill-color);\n",
              "    border-color: transparent;\n",
              "    border-bottom-color: var(--fill-color);\n",
              "    animation:\n",
              "      spin 1s steps(1) infinite;\n",
              "  }\n",
              "\n",
              "  @keyframes spin {\n",
              "    0% {\n",
              "      border-color: transparent;\n",
              "      border-bottom-color: var(--fill-color);\n",
              "      border-left-color: var(--fill-color);\n",
              "    }\n",
              "    20% {\n",
              "      border-color: transparent;\n",
              "      border-left-color: var(--fill-color);\n",
              "      border-top-color: var(--fill-color);\n",
              "    }\n",
              "    30% {\n",
              "      border-color: transparent;\n",
              "      border-left-color: var(--fill-color);\n",
              "      border-top-color: var(--fill-color);\n",
              "      border-right-color: var(--fill-color);\n",
              "    }\n",
              "    40% {\n",
              "      border-color: transparent;\n",
              "      border-right-color: var(--fill-color);\n",
              "      border-top-color: var(--fill-color);\n",
              "    }\n",
              "    60% {\n",
              "      border-color: transparent;\n",
              "      border-right-color: var(--fill-color);\n",
              "    }\n",
              "    80% {\n",
              "      border-color: transparent;\n",
              "      border-right-color: var(--fill-color);\n",
              "      border-bottom-color: var(--fill-color);\n",
              "    }\n",
              "    90% {\n",
              "      border-color: transparent;\n",
              "      border-bottom-color: var(--fill-color);\n",
              "    }\n",
              "  }\n",
              "</style>\n",
              "\n",
              "  <script>\n",
              "    async function quickchart(key) {\n",
              "      const quickchartButtonEl =\n",
              "        document.querySelector('#' + key + ' button');\n",
              "      quickchartButtonEl.disabled = true;  // To prevent multiple clicks.\n",
              "      quickchartButtonEl.classList.add('colab-df-spinner');\n",
              "      try {\n",
              "        const charts = await google.colab.kernel.invokeFunction(\n",
              "            'suggestCharts', [key], {});\n",
              "      } catch (error) {\n",
              "        console.error('Error during call to suggestCharts:', error);\n",
              "      }\n",
              "      quickchartButtonEl.classList.remove('colab-df-spinner');\n",
              "      quickchartButtonEl.classList.add('colab-df-quickchart-complete');\n",
              "    }\n",
              "    (() => {\n",
              "      let quickchartButtonEl =\n",
              "        document.querySelector('#df-b86205d3-1035-4a8e-9c79-f7c491b55c3e button');\n",
              "      quickchartButtonEl.style.display =\n",
              "        google.colab.kernel.accessAllowed ? 'block' : 'none';\n",
              "    })();\n",
              "  </script>\n",
              "</div>\n",
              "\n",
              "    </div>\n",
              "  </div>\n"
            ],
            "application/vnd.google.colaboratory.intrinsic+json": {
              "type": "dataframe",
              "variable_name": "nutrients_df"
            }
          },
          "metadata": {},
          "execution_count": 8
        }
      ]
    },
    {
      "cell_type": "markdown",
      "source": [
        "Our proposed recommendation system supposedly does'nt give suggestion based on purchase places but we can include this in our future study. Here there are some city names, state names and even country names so, its upto us, how we segregate them."
      ],
      "metadata": {
        "id": "LPqPOYGCWGxc"
      }
    },
    {
      "cell_type": "code",
      "source": [
        "us_df.purchase_places.value_counts().head(20)"
      ],
      "metadata": {
        "id": "MlSETNJiLrUb",
        "colab": {
          "base_uri": "https://localhost:8080/",
          "height": 743
        },
        "outputId": "055bab84-1136-4f81-9fce-b60b56f27ff7"
      },
      "execution_count": 21,
      "outputs": [
        {
          "output_type": "execute_result",
          "data": {
            "text/plain": [
              "purchase_places\n",
              "0                                        172061\n",
              "California                                  225\n",
              "San Francisco,California,USA                173\n",
              "South Carolina                              159\n",
              "Chicago,Illinois,USA                         76\n",
              "Virginia Beach,Virginia,United States        41\n",
              "United States                                37\n",
              "Los Angeles,California,USA                   29\n",
              "New York                                     26\n",
              "Mountain View,California,USA                 23\n",
              "Mountain View, California, USA               17\n",
              "Pennsylvania                                 15\n",
              "Norfolk,Virginia,United States               14\n",
              "Washington                                   13\n",
              "Santa Monica,California,USA                  13\n",
              "Seattle,Washington,United States             12\n",
              "Illinois,USA                                 11\n",
              "Brooklyn,NY,USA                               9\n",
              "California,United States                      9\n",
              "Virginia,United States                        8\n",
              "Name: count, dtype: int64"
            ],
            "text/html": [
              "<div>\n",
              "<style scoped>\n",
              "    .dataframe tbody tr th:only-of-type {\n",
              "        vertical-align: middle;\n",
              "    }\n",
              "\n",
              "    .dataframe tbody tr th {\n",
              "        vertical-align: top;\n",
              "    }\n",
              "\n",
              "    .dataframe thead th {\n",
              "        text-align: right;\n",
              "    }\n",
              "</style>\n",
              "<table border=\"1\" class=\"dataframe\">\n",
              "  <thead>\n",
              "    <tr style=\"text-align: right;\">\n",
              "      <th></th>\n",
              "      <th>count</th>\n",
              "    </tr>\n",
              "    <tr>\n",
              "      <th>purchase_places</th>\n",
              "      <th></th>\n",
              "    </tr>\n",
              "  </thead>\n",
              "  <tbody>\n",
              "    <tr>\n",
              "      <th>0</th>\n",
              "      <td>172061</td>\n",
              "    </tr>\n",
              "    <tr>\n",
              "      <th>California</th>\n",
              "      <td>225</td>\n",
              "    </tr>\n",
              "    <tr>\n",
              "      <th>San Francisco,California,USA</th>\n",
              "      <td>173</td>\n",
              "    </tr>\n",
              "    <tr>\n",
              "      <th>South Carolina</th>\n",
              "      <td>159</td>\n",
              "    </tr>\n",
              "    <tr>\n",
              "      <th>Chicago,Illinois,USA</th>\n",
              "      <td>76</td>\n",
              "    </tr>\n",
              "    <tr>\n",
              "      <th>Virginia Beach,Virginia,United States</th>\n",
              "      <td>41</td>\n",
              "    </tr>\n",
              "    <tr>\n",
              "      <th>United States</th>\n",
              "      <td>37</td>\n",
              "    </tr>\n",
              "    <tr>\n",
              "      <th>Los Angeles,California,USA</th>\n",
              "      <td>29</td>\n",
              "    </tr>\n",
              "    <tr>\n",
              "      <th>New York</th>\n",
              "      <td>26</td>\n",
              "    </tr>\n",
              "    <tr>\n",
              "      <th>Mountain View,California,USA</th>\n",
              "      <td>23</td>\n",
              "    </tr>\n",
              "    <tr>\n",
              "      <th>Mountain View, California, USA</th>\n",
              "      <td>17</td>\n",
              "    </tr>\n",
              "    <tr>\n",
              "      <th>Pennsylvania</th>\n",
              "      <td>15</td>\n",
              "    </tr>\n",
              "    <tr>\n",
              "      <th>Norfolk,Virginia,United States</th>\n",
              "      <td>14</td>\n",
              "    </tr>\n",
              "    <tr>\n",
              "      <th>Washington</th>\n",
              "      <td>13</td>\n",
              "    </tr>\n",
              "    <tr>\n",
              "      <th>Santa Monica,California,USA</th>\n",
              "      <td>13</td>\n",
              "    </tr>\n",
              "    <tr>\n",
              "      <th>Seattle,Washington,United States</th>\n",
              "      <td>12</td>\n",
              "    </tr>\n",
              "    <tr>\n",
              "      <th>Illinois,USA</th>\n",
              "      <td>11</td>\n",
              "    </tr>\n",
              "    <tr>\n",
              "      <th>Brooklyn,NY,USA</th>\n",
              "      <td>9</td>\n",
              "    </tr>\n",
              "    <tr>\n",
              "      <th>California,United States</th>\n",
              "      <td>9</td>\n",
              "    </tr>\n",
              "    <tr>\n",
              "      <th>Virginia,United States</th>\n",
              "      <td>8</td>\n",
              "    </tr>\n",
              "  </tbody>\n",
              "</table>\n",
              "</div><br><label><b>dtype:</b> int64</label>"
            ]
          },
          "metadata": {},
          "execution_count": 21
        }
      ]
    },
    {
      "cell_type": "markdown",
      "source": [
        "This dataframe gives you details about the retail stores that carry this product"
      ],
      "metadata": {
        "id": "lr6-NV5NaOS2"
      }
    },
    {
      "cell_type": "code",
      "source": [
        "us_df.stores.fillna('not available in stores', inplace=True)\n",
        "us_df.stores.value_counts().head(10)"
      ],
      "metadata": {
        "colab": {
          "base_uri": "https://localhost:8080/",
          "height": 538
        },
        "id": "ViFpcKeGYRAQ",
        "outputId": "54a99f3c-a4f4-4cc2-f136-c47f37d96ab6"
      },
      "execution_count": 21,
      "outputs": [
        {
          "output_type": "stream",
          "name": "stderr",
          "text": [
            "<ipython-input-21-93353113ab09>:1: SettingWithCopyWarning: \n",
            "A value is trying to be set on a copy of a slice from a DataFrame\n",
            "\n",
            "See the caveats in the documentation: https://pandas.pydata.org/pandas-docs/stable/user_guide/indexing.html#returning-a-view-versus-a-copy\n",
            "  us_df.stores.fillna('not available in stores', inplace=True)\n"
          ]
        },
        {
          "output_type": "execute_result",
          "data": {
            "text/plain": [
              "stores\n",
              "not available in stores    172638\n",
              "Safeway                       149\n",
              "Walmart                        40\n",
              "Trader Joe's                   32\n",
              "Walgreens                      30\n",
              "Jewel Osco                     21\n",
              "Meijer                         19\n",
              "Costco                         18\n",
              "Whole Foods                    17\n",
              "Nijiya Market                  14\n",
              "Name: count, dtype: int64"
            ],
            "text/html": [
              "<div>\n",
              "<style scoped>\n",
              "    .dataframe tbody tr th:only-of-type {\n",
              "        vertical-align: middle;\n",
              "    }\n",
              "\n",
              "    .dataframe tbody tr th {\n",
              "        vertical-align: top;\n",
              "    }\n",
              "\n",
              "    .dataframe thead th {\n",
              "        text-align: right;\n",
              "    }\n",
              "</style>\n",
              "<table border=\"1\" class=\"dataframe\">\n",
              "  <thead>\n",
              "    <tr style=\"text-align: right;\">\n",
              "      <th></th>\n",
              "      <th>count</th>\n",
              "    </tr>\n",
              "    <tr>\n",
              "      <th>stores</th>\n",
              "      <th></th>\n",
              "    </tr>\n",
              "  </thead>\n",
              "  <tbody>\n",
              "    <tr>\n",
              "      <th>not available in stores</th>\n",
              "      <td>172638</td>\n",
              "    </tr>\n",
              "    <tr>\n",
              "      <th>Safeway</th>\n",
              "      <td>149</td>\n",
              "    </tr>\n",
              "    <tr>\n",
              "      <th>Walmart</th>\n",
              "      <td>40</td>\n",
              "    </tr>\n",
              "    <tr>\n",
              "      <th>Trader Joe's</th>\n",
              "      <td>32</td>\n",
              "    </tr>\n",
              "    <tr>\n",
              "      <th>Walgreens</th>\n",
              "      <td>30</td>\n",
              "    </tr>\n",
              "    <tr>\n",
              "      <th>Jewel Osco</th>\n",
              "      <td>21</td>\n",
              "    </tr>\n",
              "    <tr>\n",
              "      <th>Meijer</th>\n",
              "      <td>19</td>\n",
              "    </tr>\n",
              "    <tr>\n",
              "      <th>Costco</th>\n",
              "      <td>18</td>\n",
              "    </tr>\n",
              "    <tr>\n",
              "      <th>Whole Foods</th>\n",
              "      <td>17</td>\n",
              "    </tr>\n",
              "    <tr>\n",
              "      <th>Nijiya Market</th>\n",
              "      <td>14</td>\n",
              "    </tr>\n",
              "  </tbody>\n",
              "</table>\n",
              "</div><br><label><b>dtype:</b> int64</label>"
            ]
          },
          "metadata": {},
          "execution_count": 21
        }
      ]
    },
    {
      "cell_type": "code",
      "source": [],
      "metadata": {
        "id": "DxttWRqkjf6A"
      },
      "execution_count": null,
      "outputs": []
    },
    {
      "cell_type": "code",
      "source": [],
      "metadata": {
        "id": "lDlnOXszjf3K"
      },
      "execution_count": null,
      "outputs": []
    },
    {
      "cell_type": "markdown",
      "source": [
        "we have to use natural language processing to find similarity between ingredints when building our recommender system."
      ],
      "metadata": {
        "id": "XOV7gSOmqNbw"
      }
    },
    {
      "cell_type": "code",
      "source": [
        "us_df.ingredients_text"
      ],
      "metadata": {
        "colab": {
          "base_uri": "https://localhost:8080/",
          "height": 458
        },
        "id": "xBKoqMflac_O",
        "outputId": "fd50be10-dd5d-4d58-95dc-3b51f044465c"
      },
      "execution_count": 23,
      "outputs": [
        {
          "output_type": "execute_result",
          "data": {
            "text/plain": [
              "1         Bananas, vegetable oil (coconut oil, corn oil ...\n",
              "2         Peanuts, wheat flour, sugar, rice flour, tapio...\n",
              "3         Organic hazelnuts, organic cashews, organic wa...\n",
              "4                                           Organic polenta\n",
              "5         Rolled oats, grape concentrate, expeller press...\n",
              "                                ...                        \n",
              "355985                                             Cassava.\n",
              "355998                                                    0\n",
              "356004    Water, high fructose corn syrup, contains 2% o...\n",
              "356022    Organic peppermint, organic lemon grass, organ...\n",
              "356026    Citric acid, maltodextrin, instant tea, aspart...\n",
              "Name: ingredients_text, Length: 173159, dtype: object"
            ],
            "text/html": [
              "<div>\n",
              "<style scoped>\n",
              "    .dataframe tbody tr th:only-of-type {\n",
              "        vertical-align: middle;\n",
              "    }\n",
              "\n",
              "    .dataframe tbody tr th {\n",
              "        vertical-align: top;\n",
              "    }\n",
              "\n",
              "    .dataframe thead th {\n",
              "        text-align: right;\n",
              "    }\n",
              "</style>\n",
              "<table border=\"1\" class=\"dataframe\">\n",
              "  <thead>\n",
              "    <tr style=\"text-align: right;\">\n",
              "      <th></th>\n",
              "      <th>ingredients_text</th>\n",
              "    </tr>\n",
              "  </thead>\n",
              "  <tbody>\n",
              "    <tr>\n",
              "      <th>1</th>\n",
              "      <td>Bananas, vegetable oil (coconut oil, corn oil ...</td>\n",
              "    </tr>\n",
              "    <tr>\n",
              "      <th>2</th>\n",
              "      <td>Peanuts, wheat flour, sugar, rice flour, tapio...</td>\n",
              "    </tr>\n",
              "    <tr>\n",
              "      <th>3</th>\n",
              "      <td>Organic hazelnuts, organic cashews, organic wa...</td>\n",
              "    </tr>\n",
              "    <tr>\n",
              "      <th>4</th>\n",
              "      <td>Organic polenta</td>\n",
              "    </tr>\n",
              "    <tr>\n",
              "      <th>5</th>\n",
              "      <td>Rolled oats, grape concentrate, expeller press...</td>\n",
              "    </tr>\n",
              "    <tr>\n",
              "      <th>...</th>\n",
              "      <td>...</td>\n",
              "    </tr>\n",
              "    <tr>\n",
              "      <th>355985</th>\n",
              "      <td>Cassava.</td>\n",
              "    </tr>\n",
              "    <tr>\n",
              "      <th>355998</th>\n",
              "      <td>0</td>\n",
              "    </tr>\n",
              "    <tr>\n",
              "      <th>356004</th>\n",
              "      <td>Water, high fructose corn syrup, contains 2% o...</td>\n",
              "    </tr>\n",
              "    <tr>\n",
              "      <th>356022</th>\n",
              "      <td>Organic peppermint, organic lemon grass, organ...</td>\n",
              "    </tr>\n",
              "    <tr>\n",
              "      <th>356026</th>\n",
              "      <td>Citric acid, maltodextrin, instant tea, aspart...</td>\n",
              "    </tr>\n",
              "  </tbody>\n",
              "</table>\n",
              "<p>173159 rows × 1 columns</p>\n",
              "</div><br><label><b>dtype:</b> object</label>"
            ]
          },
          "metadata": {},
          "execution_count": 23
        }
      ]
    },
    {
      "cell_type": "markdown",
      "source": [
        "This is one of the important collumn we will be considering for building our recommender system as it has data of allergnes present on food products"
      ],
      "metadata": {
        "id": "b7xoTfnfsI5-"
      }
    },
    {
      "cell_type": "code",
      "source": [
        "us_df['allergens'].replace(0, 'no allergens', inplace=True)"
      ],
      "metadata": {
        "colab": {
          "base_uri": "https://localhost:8080/"
        },
        "id": "fsoXTVlJ0vsy",
        "outputId": "983129ba-a42c-44d5-8aff-bea99cd248ec"
      },
      "execution_count": 24,
      "outputs": [
        {
          "output_type": "stream",
          "name": "stderr",
          "text": [
            "<ipython-input-24-2f59d25bb854>:1: FutureWarning: A value is trying to be set on a copy of a DataFrame or Series through chained assignment using an inplace method.\n",
            "The behavior will change in pandas 3.0. This inplace method will never work because the intermediate object on which we are setting values always behaves as a copy.\n",
            "\n",
            "For example, when doing 'df[col].method(value, inplace=True)', try using 'df.method({col: value}, inplace=True)' or df[col] = df[col].method(value) instead, to perform the operation inplace on the original object.\n",
            "\n",
            "\n",
            "  us_df['allergens'].replace(0, 'no allergens', inplace=True)\n",
            "<ipython-input-24-2f59d25bb854>:1: SettingWithCopyWarning: \n",
            "A value is trying to be set on a copy of a slice from a DataFrame\n",
            "\n",
            "See the caveats in the documentation: https://pandas.pydata.org/pandas-docs/stable/user_guide/indexing.html#returning-a-view-versus-a-copy\n",
            "  us_df['allergens'].replace(0, 'no allergens', inplace=True)\n"
          ]
        }
      ]
    },
    {
      "cell_type": "code",
      "source": [
        "us_df.allergens.value_counts().head(10)"
      ],
      "metadata": {
        "colab": {
          "base_uri": "https://localhost:8080/",
          "height": 429
        },
        "id": "CIw51ethrtME",
        "outputId": "b6347fa4-b08f-41ea-a9f6-4f2021aeb6b3"
      },
      "execution_count": 25,
      "outputs": [
        {
          "output_type": "execute_result",
          "data": {
            "text/plain": [
              "allergens\n",
              "no allergens                  172689\n",
              "Milk                              18\n",
              "MILK, MILK                        12\n",
              "WHEAT, WHEAT, WHEAT, WHEAT        10\n",
              "Wheat                              9\n",
              "WHEAT, WHEAT                       8\n",
              "milk                               8\n",
              "Peanuts                            7\n",
              "wheat, wheat                       7\n",
              "soy                                6\n",
              "Name: count, dtype: int64"
            ],
            "text/html": [
              "<div>\n",
              "<style scoped>\n",
              "    .dataframe tbody tr th:only-of-type {\n",
              "        vertical-align: middle;\n",
              "    }\n",
              "\n",
              "    .dataframe tbody tr th {\n",
              "        vertical-align: top;\n",
              "    }\n",
              "\n",
              "    .dataframe thead th {\n",
              "        text-align: right;\n",
              "    }\n",
              "</style>\n",
              "<table border=\"1\" class=\"dataframe\">\n",
              "  <thead>\n",
              "    <tr style=\"text-align: right;\">\n",
              "      <th></th>\n",
              "      <th>count</th>\n",
              "    </tr>\n",
              "    <tr>\n",
              "      <th>allergens</th>\n",
              "      <th></th>\n",
              "    </tr>\n",
              "  </thead>\n",
              "  <tbody>\n",
              "    <tr>\n",
              "      <th>no allergens</th>\n",
              "      <td>172689</td>\n",
              "    </tr>\n",
              "    <tr>\n",
              "      <th>Milk</th>\n",
              "      <td>18</td>\n",
              "    </tr>\n",
              "    <tr>\n",
              "      <th>MILK, MILK</th>\n",
              "      <td>12</td>\n",
              "    </tr>\n",
              "    <tr>\n",
              "      <th>WHEAT, WHEAT, WHEAT, WHEAT</th>\n",
              "      <td>10</td>\n",
              "    </tr>\n",
              "    <tr>\n",
              "      <th>Wheat</th>\n",
              "      <td>9</td>\n",
              "    </tr>\n",
              "    <tr>\n",
              "      <th>WHEAT, WHEAT</th>\n",
              "      <td>8</td>\n",
              "    </tr>\n",
              "    <tr>\n",
              "      <th>milk</th>\n",
              "      <td>8</td>\n",
              "    </tr>\n",
              "    <tr>\n",
              "      <th>Peanuts</th>\n",
              "      <td>7</td>\n",
              "    </tr>\n",
              "    <tr>\n",
              "      <th>wheat, wheat</th>\n",
              "      <td>7</td>\n",
              "    </tr>\n",
              "    <tr>\n",
              "      <th>soy</th>\n",
              "      <td>6</td>\n",
              "    </tr>\n",
              "  </tbody>\n",
              "</table>\n",
              "</div><br><label><b>dtype:</b> int64</label>"
            ]
          },
          "metadata": {},
          "execution_count": 25
        }
      ]
    },
    {
      "cell_type": "markdown",
      "source": [
        "As there a a lot of duplicates and repetated allergens in one product, we cleaned them by converting them into lowercase, removing duplicates by converting into a set, and sort them."
      ],
      "metadata": {
        "id": "MTfV7I1qLjTy"
      }
    },
    {
      "cell_type": "code",
      "source": [
        "import pandas as pd\n",
        "\n",
        "def standardize_allergens(allergen_string):\n",
        "    # Convert to lowercase\n",
        "    allergens = allergen_string.lower()\n",
        "    # Split by comma and strip whitespace\n",
        "    allergens_list = [allergen.strip() for allergen in allergens.split(',')]\n",
        "    # Remove duplicates by converting to a set\n",
        "    unique_allergens = set(allergens_list)\n",
        "    # Sort the allergens\n",
        "    sorted_allergens = sorted(unique_allergens)\n",
        "    # Join back to a string\n",
        "    return ', '.join(sorted_allergens)\n",
        "\n",
        "# Apply the function to the 'Allergens' column\n",
        "us_df['allergens'] = us_df.allergens.apply(standardize_allergens)"
      ],
      "metadata": {
        "id": "KzTZgswd0MIE",
        "colab": {
          "base_uri": "https://localhost:8080/"
        },
        "outputId": "99bfc860-dbc9-4805-e723-c20b34fc97ea"
      },
      "execution_count": 26,
      "outputs": [
        {
          "output_type": "stream",
          "name": "stderr",
          "text": [
            "<ipython-input-26-833e4f47ea3a>:16: SettingWithCopyWarning: \n",
            "A value is trying to be set on a copy of a slice from a DataFrame.\n",
            "Try using .loc[row_indexer,col_indexer] = value instead\n",
            "\n",
            "See the caveats in the documentation: https://pandas.pydata.org/pandas-docs/stable/user_guide/indexing.html#returning-a-view-versus-a-copy\n",
            "  us_df['allergens'] = us_df.allergens.apply(standardize_allergens)\n"
          ]
        }
      ]
    },
    {
      "cell_type": "code",
      "source": [
        "us_df['allergens'].value_counts().head(10)"
      ],
      "metadata": {
        "id": "ziku4jNa0MFf",
        "colab": {
          "base_uri": "https://localhost:8080/",
          "height": 429
        },
        "outputId": "9f0eb821-014f-40bb-d75e-e7cd5a51e554"
      },
      "execution_count": 28,
      "outputs": [
        {
          "output_type": "execute_result",
          "data": {
            "text/plain": [
              "allergens\n",
              "no allergens      172689\n",
              "milk                  49\n",
              "wheat                 41\n",
              "peanuts               14\n",
              "cream, milk           10\n",
              "soy                    9\n",
              "soy, wheat             9\n",
              "soybean, wheat         7\n",
              "mustard                6\n",
              "milk, soy              5\n",
              "Name: count, dtype: int64"
            ],
            "text/html": [
              "<div>\n",
              "<style scoped>\n",
              "    .dataframe tbody tr th:only-of-type {\n",
              "        vertical-align: middle;\n",
              "    }\n",
              "\n",
              "    .dataframe tbody tr th {\n",
              "        vertical-align: top;\n",
              "    }\n",
              "\n",
              "    .dataframe thead th {\n",
              "        text-align: right;\n",
              "    }\n",
              "</style>\n",
              "<table border=\"1\" class=\"dataframe\">\n",
              "  <thead>\n",
              "    <tr style=\"text-align: right;\">\n",
              "      <th></th>\n",
              "      <th>count</th>\n",
              "    </tr>\n",
              "    <tr>\n",
              "      <th>allergens</th>\n",
              "      <th></th>\n",
              "    </tr>\n",
              "  </thead>\n",
              "  <tbody>\n",
              "    <tr>\n",
              "      <th>no allergens</th>\n",
              "      <td>172689</td>\n",
              "    </tr>\n",
              "    <tr>\n",
              "      <th>milk</th>\n",
              "      <td>49</td>\n",
              "    </tr>\n",
              "    <tr>\n",
              "      <th>wheat</th>\n",
              "      <td>41</td>\n",
              "    </tr>\n",
              "    <tr>\n",
              "      <th>peanuts</th>\n",
              "      <td>14</td>\n",
              "    </tr>\n",
              "    <tr>\n",
              "      <th>cream, milk</th>\n",
              "      <td>10</td>\n",
              "    </tr>\n",
              "    <tr>\n",
              "      <th>soy</th>\n",
              "      <td>9</td>\n",
              "    </tr>\n",
              "    <tr>\n",
              "      <th>soy, wheat</th>\n",
              "      <td>9</td>\n",
              "    </tr>\n",
              "    <tr>\n",
              "      <th>soybean, wheat</th>\n",
              "      <td>7</td>\n",
              "    </tr>\n",
              "    <tr>\n",
              "      <th>mustard</th>\n",
              "      <td>6</td>\n",
              "    </tr>\n",
              "    <tr>\n",
              "      <th>milk, soy</th>\n",
              "      <td>5</td>\n",
              "    </tr>\n",
              "  </tbody>\n",
              "</table>\n",
              "</div><br><label><b>dtype:</b> int64</label>"
            ]
          },
          "metadata": {},
          "execution_count": 28
        }
      ]
    },
    {
      "cell_type": "markdown",
      "source": [
        "Lets do the same with *packaging* column but use an alternate method"
      ],
      "metadata": {
        "id": "WM6NL1T1UUOk"
      }
    },
    {
      "cell_type": "code",
      "source": [
        "us_df.packaging.replace(0, 'unpacked', inplace=True)"
      ],
      "metadata": {
        "colab": {
          "base_uri": "https://localhost:8080/"
        },
        "id": "VwEN0t27VJNo",
        "outputId": "62b2f450-8ea8-41dd-8cc9-9a4234dad48d"
      },
      "execution_count": 29,
      "outputs": [
        {
          "output_type": "stream",
          "name": "stderr",
          "text": [
            "<ipython-input-29-87294ef428bc>:1: FutureWarning: A value is trying to be set on a copy of a DataFrame or Series through chained assignment using an inplace method.\n",
            "The behavior will change in pandas 3.0. This inplace method will never work because the intermediate object on which we are setting values always behaves as a copy.\n",
            "\n",
            "For example, when doing 'df[col].method(value, inplace=True)', try using 'df.method({col: value}, inplace=True)' or df[col] = df[col].method(value) instead, to perform the operation inplace on the original object.\n",
            "\n",
            "\n",
            "  us_df.packaging.replace(0, 'unpacked', inplace=True)\n",
            "<ipython-input-29-87294ef428bc>:1: SettingWithCopyWarning: \n",
            "A value is trying to be set on a copy of a slice from a DataFrame\n",
            "\n",
            "See the caveats in the documentation: https://pandas.pydata.org/pandas-docs/stable/user_guide/indexing.html#returning-a-view-versus-a-copy\n",
            "  us_df.packaging.replace(0, 'unpacked', inplace=True)\n"
          ]
        }
      ]
    },
    {
      "cell_type": "code",
      "source": [
        "!pip install fuzzywuzzy\n",
        "from fuzzywuzzy import process\n",
        "\n",
        "def fuzzy_standardize(packaging_string):\n",
        "    packaging_types = packaging_string.lower()\n",
        "    packaging_list = [package.strip() for package in packaging_types.split(',')]\n",
        "    unique_packages = set(packaging_list)\n",
        "    return ', '.join(sorted(set(unique_packages)))\n",
        "\n",
        "# Apply the fuzzy matching function\n",
        "us_df['packaging'] = us_df['packaging'].apply(fuzzy_standardize)\n"
      ],
      "metadata": {
        "id": "5Xy5Q3oy0MDH",
        "colab": {
          "base_uri": "https://localhost:8080/"
        },
        "outputId": "fc9abb09-9dc0-4dc9-dccb-10843272a02d"
      },
      "execution_count": 30,
      "outputs": [
        {
          "output_type": "stream",
          "name": "stdout",
          "text": [
            "Collecting fuzzywuzzy\n",
            "  Downloading fuzzywuzzy-0.18.0-py2.py3-none-any.whl.metadata (4.9 kB)\n",
            "Downloading fuzzywuzzy-0.18.0-py2.py3-none-any.whl (18 kB)\n",
            "Installing collected packages: fuzzywuzzy\n",
            "Successfully installed fuzzywuzzy-0.18.0\n"
          ]
        },
        {
          "output_type": "stream",
          "name": "stderr",
          "text": [
            "/usr/local/lib/python3.11/dist-packages/fuzzywuzzy/fuzz.py:11: UserWarning: Using slow pure-python SequenceMatcher. Install python-Levenshtein to remove this warning\n",
            "  warnings.warn('Using slow pure-python SequenceMatcher. Install python-Levenshtein to remove this warning')\n",
            "<ipython-input-30-0b59254314de>:11: SettingWithCopyWarning: \n",
            "A value is trying to be set on a copy of a slice from a DataFrame.\n",
            "Try using .loc[row_indexer,col_indexer] = value instead\n",
            "\n",
            "See the caveats in the documentation: https://pandas.pydata.org/pandas-docs/stable/user_guide/indexing.html#returning-a-view-versus-a-copy\n",
            "  us_df['packaging'] = us_df['packaging'].apply(fuzzy_standardize)\n"
          ]
        }
      ]
    },
    {
      "cell_type": "code",
      "source": [
        "us_df.packaging.value_counts()"
      ],
      "metadata": {
        "colab": {
          "base_uri": "https://localhost:8080/",
          "height": 490
        },
        "id": "yTCc4NlgU48a",
        "outputId": "3f2a55e0-d544-4039-d717-c62c307b0829"
      },
      "execution_count": 41,
      "outputs": [
        {
          "output_type": "execute_result",
          "data": {
            "text/plain": [
              "packaging\n",
              "unpacked                          171971\n",
              "plastic                              146\n",
              "box                                  137\n",
              "bottle                                68\n",
              "bag, plastic                          55\n",
              "                                   ...  \n",
              "carton et plastique                    1\n",
              "pasteurized, plastic bottle            1\n",
              "glass, glass pot, metal                1\n",
              ", bottle, item                         1\n",
              "box, metallized, packet, paper         1\n",
              "Name: count, Length: 179, dtype: int64"
            ],
            "text/html": [
              "<div>\n",
              "<style scoped>\n",
              "    .dataframe tbody tr th:only-of-type {\n",
              "        vertical-align: middle;\n",
              "    }\n",
              "\n",
              "    .dataframe tbody tr th {\n",
              "        vertical-align: top;\n",
              "    }\n",
              "\n",
              "    .dataframe thead th {\n",
              "        text-align: right;\n",
              "    }\n",
              "</style>\n",
              "<table border=\"1\" class=\"dataframe\">\n",
              "  <thead>\n",
              "    <tr style=\"text-align: right;\">\n",
              "      <th></th>\n",
              "      <th>count</th>\n",
              "    </tr>\n",
              "    <tr>\n",
              "      <th>packaging</th>\n",
              "      <th></th>\n",
              "    </tr>\n",
              "  </thead>\n",
              "  <tbody>\n",
              "    <tr>\n",
              "      <th>unpacked</th>\n",
              "      <td>171971</td>\n",
              "    </tr>\n",
              "    <tr>\n",
              "      <th>plastic</th>\n",
              "      <td>146</td>\n",
              "    </tr>\n",
              "    <tr>\n",
              "      <th>box</th>\n",
              "      <td>137</td>\n",
              "    </tr>\n",
              "    <tr>\n",
              "      <th>bottle</th>\n",
              "      <td>68</td>\n",
              "    </tr>\n",
              "    <tr>\n",
              "      <th>bag, plastic</th>\n",
              "      <td>55</td>\n",
              "    </tr>\n",
              "    <tr>\n",
              "      <th>...</th>\n",
              "      <td>...</td>\n",
              "    </tr>\n",
              "    <tr>\n",
              "      <th>carton et plastique</th>\n",
              "      <td>1</td>\n",
              "    </tr>\n",
              "    <tr>\n",
              "      <th>pasteurized, plastic bottle</th>\n",
              "      <td>1</td>\n",
              "    </tr>\n",
              "    <tr>\n",
              "      <th>glass, glass pot, metal</th>\n",
              "      <td>1</td>\n",
              "    </tr>\n",
              "    <tr>\n",
              "      <th>, bottle, item</th>\n",
              "      <td>1</td>\n",
              "    </tr>\n",
              "    <tr>\n",
              "      <th>box, metallized, packet, paper</th>\n",
              "      <td>1</td>\n",
              "    </tr>\n",
              "  </tbody>\n",
              "</table>\n",
              "<p>179 rows × 1 columns</p>\n",
              "</div><br><label><b>dtype:</b> int64</label>"
            ]
          },
          "metadata": {},
          "execution_count": 41
        }
      ]
    },
    {
      "cell_type": "markdown",
      "source": [
        "Countries like France and England have given a score from negative to positive for every product. Lets see a histogram of these scores and how they varies for all products."
      ],
      "metadata": {
        "id": "-le9P-lXFa6J"
      }
    },
    {
      "cell_type": "code",
      "source": [
        "plt.figure(figsize=(10, 6))\n",
        "sns.histplot(data=us_df, x='nutrition-score-fr_100g', bins=30, kde = True)\n",
        "plt.title('Distribution of Nutrition-Scores')\n",
        "plt.xlabel('Nutrition-Score')\n",
        "plt.ylabel('Number of Products')\n",
        "plt.show()"
      ],
      "metadata": {
        "id": "Q1MWpcCYU44g",
        "colab": {
          "base_uri": "https://localhost:8080/",
          "height": 564
        },
        "outputId": "1e1f60f6-7f2f-4d3a-992c-4a91e3f4673a"
      },
      "execution_count": 67,
      "outputs": [
        {
          "output_type": "display_data",
          "data": {
            "text/plain": [
              "<Figure size 1000x600 with 1 Axes>"
            ],
            "image/png": "[encoded data removed]"
          },
          "metadata": {}
        }
      ]
    },
    {
      "cell_type": "code",
      "source": [
        "us_df.nutrition_grade_fr.value_counts()"
      ],
      "metadata": {
        "colab": {
          "base_uri": "https://localhost:8080/",
          "height": 304
        },
        "id": "5Y5h0DfS0MAO",
        "outputId": "6e93013d-71a0-4594-933a-27efd5849af0"
      },
      "execution_count": 32,
      "outputs": [
        {
          "output_type": "execute_result",
          "data": {
            "text/plain": [
              "nutrition_grade_fr\n",
              "d    40321\n",
              "0    34083\n",
              "c    27986\n",
              "e    27298\n",
              "a    21865\n",
              "b    21606\n",
              "Name: count, dtype: int64"
            ],
            "text/html": [
              "<div>\n",
              "<style scoped>\n",
              "    .dataframe tbody tr th:only-of-type {\n",
              "        vertical-align: middle;\n",
              "    }\n",
              "\n",
              "    .dataframe tbody tr th {\n",
              "        vertical-align: top;\n",
              "    }\n",
              "\n",
              "    .dataframe thead th {\n",
              "        text-align: right;\n",
              "    }\n",
              "</style>\n",
              "<table border=\"1\" class=\"dataframe\">\n",
              "  <thead>\n",
              "    <tr style=\"text-align: right;\">\n",
              "      <th></th>\n",
              "      <th>count</th>\n",
              "    </tr>\n",
              "    <tr>\n",
              "      <th>nutrition_grade_fr</th>\n",
              "      <th></th>\n",
              "    </tr>\n",
              "  </thead>\n",
              "  <tbody>\n",
              "    <tr>\n",
              "      <th>d</th>\n",
              "      <td>40321</td>\n",
              "    </tr>\n",
              "    <tr>\n",
              "      <th>0</th>\n",
              "      <td>34083</td>\n",
              "    </tr>\n",
              "    <tr>\n",
              "      <th>c</th>\n",
              "      <td>27986</td>\n",
              "    </tr>\n",
              "    <tr>\n",
              "      <th>e</th>\n",
              "      <td>27298</td>\n",
              "    </tr>\n",
              "    <tr>\n",
              "      <th>a</th>\n",
              "      <td>21865</td>\n",
              "    </tr>\n",
              "    <tr>\n",
              "      <th>b</th>\n",
              "      <td>21606</td>\n",
              "    </tr>\n",
              "  </tbody>\n",
              "</table>\n",
              "</div><br><label><b>dtype:</b> int64</label>"
            ]
          },
          "metadata": {},
          "execution_count": 32
        }
      ]
    },
    {
      "cell_type": "code",
      "source": [
        "us_df['nutrition_grade_fr'].replace(0, 'unknown', inplace=True)"
      ],
      "metadata": {
        "colab": {
          "base_uri": "https://localhost:8080/"
        },
        "id": "MuwGOXWj0L9o",
        "outputId": "519c753b-8c1c-4e26-cc7e-5e623c9082db"
      },
      "execution_count": 33,
      "outputs": [
        {
          "output_type": "stream",
          "name": "stderr",
          "text": [
            "<ipython-input-33-b1bde9fe7b8c>:1: FutureWarning: A value is trying to be set on a copy of a DataFrame or Series through chained assignment using an inplace method.\n",
            "The behavior will change in pandas 3.0. This inplace method will never work because the intermediate object on which we are setting values always behaves as a copy.\n",
            "\n",
            "For example, when doing 'df[col].method(value, inplace=True)', try using 'df.method({col: value}, inplace=True)' or df[col] = df[col].method(value) instead, to perform the operation inplace on the original object.\n",
            "\n",
            "\n",
            "  us_df['nutrition_grade_fr'].replace(0, 'unknown', inplace=True)\n",
            "<ipython-input-33-b1bde9fe7b8c>:1: SettingWithCopyWarning: \n",
            "A value is trying to be set on a copy of a slice from a DataFrame\n",
            "\n",
            "See the caveats in the documentation: https://pandas.pydata.org/pandas-docs/stable/user_guide/indexing.html#returning-a-view-versus-a-copy\n",
            "  us_df['nutrition_grade_fr'].replace(0, 'unknown', inplace=True)\n"
          ]
        }
      ]
    },
    {
      "cell_type": "code",
      "source": [
        "with_grade = us_df[us_df['nutrition_grade_fr'] != 'unknown'].shape[0]\n",
        "without_grade = us_df[us_df['nutrition_grade_fr'] == 'unknown'].shape[0]\n",
        "grading_percentage= (with_grade / len(us_df)) * 100\n",
        "no_grading_percentage = (without_grade / len(us_df)) * 100\n",
        "\n",
        "print(f\"Percentage of products with a nutrition grade: {grading_percentage:.2f}%\")\n",
        "print(f\"Percentage of products without a nutrition grade: {no_grading_percentage:.2f}%\")\n"
      ],
      "metadata": {
        "colab": {
          "base_uri": "https://localhost:8080/"
        },
        "id": "61wlrJFh0L6w",
        "outputId": "b40dcbfc-db16-4148-cc58-8654934e7ee3"
      },
      "execution_count": 34,
      "outputs": [
        {
          "output_type": "stream",
          "name": "stdout",
          "text": [
            "Percentage of products with a nutrition grade: 80.32%\n",
            "Percentage of products without a nutrition grade: 19.68%\n"
          ]
        }
      ]
    },
    {
      "cell_type": "markdown",
      "source": [
        "# Distribution of Nutrition grade UK\n",
        "\n",
        "\n",
        "\n",
        "\n"
      ],
      "metadata": {
        "id": "w7MWKZfx2nSF"
      }
    },
    {
      "cell_type": "code",
      "source": [
        "import matplotlib.pyplot as plt\n",
        "import seaborn as sns\n",
        "\n",
        "plt.figure(figsize=(12, 8))\n",
        "nutrition_grade_colours = ['green', 'lightgreen', 'yellow', 'orange', 'red', 'black']  # Corresponding to ['a', 'b', 'c', 'd', 'e']\n",
        "ax = sns.countplot(x='nutrition_grade_fr', data=us_df, order=['a', 'b', 'c', 'd', 'e', 'unknown'], palette=nutrition_grade_colours)\n",
        "plt.title('Distribution of Nutrition Grades Scores')\n",
        "plt.xlabel('Nutrition Grade')\n",
        "plt.ylabel('Number of Products')\n",
        "\n",
        "# Add annotations for each bar\n",
        "for p in ax.patches:\n",
        "    ax.annotate(f'{p.get_height()}', (p.get_x() + p.get_width() / 2., p.get_height()),\n",
        "                ha='center', va='center', xytext=(0, 10), textcoords='offset points')\n",
        "\n",
        "plt.show()"
      ],
      "metadata": {
        "colab": {
          "base_uri": "https://localhost:8080/",
          "height": 827
        },
        "id": "aKaaJRVa2rk1",
        "outputId": "c7987e8e-d1c5-49b9-916f-04cbc6a7f765"
      },
      "execution_count": 35,
      "outputs": [
        {
          "output_type": "stream",
          "name": "stderr",
          "text": [
            "<ipython-input-35-f32ce63757ab>:6: FutureWarning: \n",
            "\n",
            "Passing `palette` without assigning `hue` is deprecated and will be removed in v0.14.0. Assign the `x` variable to `hue` and set `legend=False` for the same effect.\n",
            "\n",
            "  ax = sns.countplot(x='nutrition_grade_fr', data=us_df, order=['a', 'b', 'c', 'd', 'e', 'unknown'], palette=nutrition_grade_colours)\n"
          ]
        },
        {
          "output_type": "display_data",
          "data": {
            "text/plain": [
              "<Figure size 1200x800 with 1 Axes>"
            ],
            "image/png": "[encoded data removed]"
          },
          "metadata": {}
        }
      ]
    },
    {
      "cell_type": "markdown",
      "source": [
        "# Distribution of Nutrition grades across Top 10 categories"
      ],
      "metadata": {
        "id": "caP6rCeDEMYq"
      }
    },
    {
      "cell_type": "code",
      "source": [
        "us_df['categories'].replace(0, 'unknown', inplace=True)"
      ],
      "metadata": {
        "colab": {
          "base_uri": "https://localhost:8080/"
        },
        "id": "rDB2tOo2GY4q",
        "outputId": "643ff75a-def5-48de-98a1-9c74ad5cdafd"
      },
      "execution_count": 36,
      "outputs": [
        {
          "output_type": "stream",
          "name": "stderr",
          "text": [
            "<ipython-input-36-d57a383610c3>:1: FutureWarning: A value is trying to be set on a copy of a DataFrame or Series through chained assignment using an inplace method.\n",
            "The behavior will change in pandas 3.0. This inplace method will never work because the intermediate object on which we are setting values always behaves as a copy.\n",
            "\n",
            "For example, when doing 'df[col].method(value, inplace=True)', try using 'df.method({col: value}, inplace=True)' or df[col] = df[col].method(value) instead, to perform the operation inplace on the original object.\n",
            "\n",
            "\n",
            "  us_df['categories'].replace(0, 'unknown', inplace=True)\n",
            "<ipython-input-36-d57a383610c3>:1: SettingWithCopyWarning: \n",
            "A value is trying to be set on a copy of a slice from a DataFrame\n",
            "\n",
            "See the caveats in the documentation: https://pandas.pydata.org/pandas-docs/stable/user_guide/indexing.html#returning-a-view-versus-a-copy\n",
            "  us_df['categories'].replace(0, 'unknown', inplace=True)\n"
          ]
        }
      ]
    },
    {
      "cell_type": "markdown",
      "source": [
        "This is the distribution of nutrition grades across top 10 categories excluding unknown categories of products from our data"
      ],
      "metadata": {
        "id": "2_HhMY5vw2Fz"
      }
    },
    {
      "cell_type": "code",
      "source": [
        "# Nutrition grades Distribution across Top 10 Categories\n",
        "nutrition_score_colors = {'a': 'green', 'b': 'lightgreen', 'c': 'yellow', 'd': 'orange', 'e': 'red'}\n",
        "top_categories = us_df[(us_df['nutrition_grade_fr'] != 'unknown') & (us_df['categories']!= 'unknown')]['categories'].value_counts().head(10).index\n",
        "\n",
        "plt.figure(figsize=(13, 8))\n",
        "ax = sns.countplot(y='categories', hue='nutrition_grade_fr', data= us_df[(us_df['nutrition_grade_fr'] != 'unknown') & (us_df['categories'].isin(top_categories))],\n",
        "                   hue_order=['a', 'b', 'c', 'd', 'e'], palette=nutrition_score_colors)\n",
        "\n",
        "# Annotate each bar with its count\n",
        "for p in ax.patches:\n",
        "    width = p.get_width()\n",
        "    height = p.get_height()\n",
        "    x, y = p.get_x() + width, p.get_y() + height / 2\n",
        "    ax.annotate(f'{int(width)}', (x + 10, y), ha='left', va='center', color='black', weight='bold', fontsize=10)\n",
        "\n",
        "plt.title('Nutrition grade Distributiobn across Top 10 Categories Exl unknown')\n",
        "plt.xlabel('Number of Products')\n",
        "plt.ylabel('Category')\n",
        "plt.legend(title='Nurition Grade')\n",
        "plt.show()"
      ],
      "metadata": {
        "colab": {
          "base_uri": "https://localhost:8080/",
          "height": 414
        },
        "id": "eInIwEpv0L35",
        "outputId": "fb4f0087-1f79-4075-f3ff-d2ecb880499b"
      },
      "execution_count": 37,
      "outputs": [
        {
          "output_type": "display_data",
          "data": {
            "text/plain": [
              "<Figure size 1300x800 with 1 Axes>"
            ],
            "image/png": "[encoded data removed]"
          },
          "metadata": {}
        }
      ]
    },
    {
      "cell_type": "markdown",
      "source": [
        "We will create various data frames based on their identification, types of ingredients used, allergens in food products and in where product packaged into.\n"
      ],
      "metadata": {
        "id": "n1K6BTcwy2Le"
      }
    },
    {
      "cell_type": "code",
      "source": [
        "# Product Identification DataFrame\n",
        "product_identification_df = us_df[['code', 'product_name', 'brands']]\n",
        "\n",
        "# Nutritional Information DataFrame\n",
        "nutritional_info_df = us_df[['ingredients_text']]\n",
        "\n",
        "# Allergens DataFrame\n",
        "allergens_df = us_df[['allergens']]\n",
        "\n",
        "# Packaging Information DataFrame\n",
        "packaging_info_df = us_df[['packaging', 'packaging_tags']]\n"
      ],
      "metadata": {
        "id": "QKbRtNijwFvq"
      },
      "execution_count": 38,
      "outputs": []
    },
    {
      "cell_type": "code",
      "source": [],
      "metadata": {
        "id": "EzN5ol_UwGL4"
      },
      "execution_count": 40,
      "outputs": []
    }
  ]
}